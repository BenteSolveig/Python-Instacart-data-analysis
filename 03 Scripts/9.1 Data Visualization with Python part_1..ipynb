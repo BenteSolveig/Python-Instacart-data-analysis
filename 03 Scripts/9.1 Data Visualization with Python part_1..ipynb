{
 "cells": [
  {
   "cell_type": "markdown",
   "id": "b913d1ee",
   "metadata": {},
   "source": [
    " Table of Content \n",
    "1.Importing libaries \n",
    "2.importing the data set\n",
    "3.data wrangeling (Task 4)\n",
    "4.Completing the fundamental data quality and consistency checks (Task 5)\n",
    "5.changing data types\n",
    "6.looking for mixed data type columns in the df\n",
    "7.Finding missing entries\n",
    "8.Looking for full duplicates\n",
    "9.Combining the customer data with the rest of the prepared Instacart data (Task 6) \n",
    "10.Exporting the data set"
   ]
  },
  {
   "cell_type": "markdown",
   "id": "957aa4ea",
   "metadata": {},
   "source": [
    "## Importing libaries "
   ]
  },
  {
   "cell_type": "code",
   "execution_count": 2,
   "id": "01c3a95b",
   "metadata": {},
   "outputs": [],
   "source": [
    "import pandas as pd\n",
    "import numpy as np\n",
    "import os\n",
    "import matplotlib.pyplot as plt\n",
    "import seaborn as sns\n",
    "import scipy\n"
   ]
  },
  {
   "cell_type": "markdown",
   "id": "737ab138",
   "metadata": {},
   "source": [
    "## importing the dataset¶"
   ]
  },
  {
   "cell_type": "code",
   "execution_count": 3,
   "id": "67d04a35",
   "metadata": {},
   "outputs": [],
   "source": [
    "cust=pd.read_csv(r'/Users/bente/careerfoundry /exercise 4/Ex.4_25-10-2023 Instacart Basket Analysis/02 Data/Original Data/customers.csv', index_col = False)"
   ]
  },
  {
   "cell_type": "markdown",
   "id": "e4abec14",
   "metadata": {},
   "source": [
    "## data wrangeling (Task 4 )"
   ]
  },
  {
   "cell_type": "code",
   "execution_count": 4,
   "id": "79efa5e7",
   "metadata": {},
   "outputs": [],
   "source": [
    "#Wrangle the data so that it follows consistent logic; for example, rename columns with illogical \n",
    "#names and drop columns that don’t add anything to your analysis."
   ]
  },
  {
   "cell_type": "code",
   "execution_count": 5,
   "id": "d6498913",
   "metadata": {},
   "outputs": [
    {
     "data": {
      "text/html": [
       "<div>\n",
       "<style scoped>\n",
       "    .dataframe tbody tr th:only-of-type {\n",
       "        vertical-align: middle;\n",
       "    }\n",
       "\n",
       "    .dataframe tbody tr th {\n",
       "        vertical-align: top;\n",
       "    }\n",
       "\n",
       "    .dataframe thead th {\n",
       "        text-align: right;\n",
       "    }\n",
       "</style>\n",
       "<table border=\"1\" class=\"dataframe\">\n",
       "  <thead>\n",
       "    <tr style=\"text-align: right;\">\n",
       "      <th></th>\n",
       "      <th>user_id</th>\n",
       "      <th>First Name</th>\n",
       "      <th>Surnam</th>\n",
       "      <th>Gender</th>\n",
       "      <th>STATE</th>\n",
       "      <th>Age</th>\n",
       "      <th>date_joined</th>\n",
       "      <th>n_dependants</th>\n",
       "      <th>fam_status</th>\n",
       "      <th>income</th>\n",
       "    </tr>\n",
       "  </thead>\n",
       "  <tbody>\n",
       "    <tr>\n",
       "      <th>0</th>\n",
       "      <td>26711</td>\n",
       "      <td>Deborah</td>\n",
       "      <td>Esquivel</td>\n",
       "      <td>Female</td>\n",
       "      <td>Missouri</td>\n",
       "      <td>48</td>\n",
       "      <td>1/1/2017</td>\n",
       "      <td>3</td>\n",
       "      <td>married</td>\n",
       "      <td>165665</td>\n",
       "    </tr>\n",
       "    <tr>\n",
       "      <th>1</th>\n",
       "      <td>33890</td>\n",
       "      <td>Patricia</td>\n",
       "      <td>Hart</td>\n",
       "      <td>Female</td>\n",
       "      <td>New Mexico</td>\n",
       "      <td>36</td>\n",
       "      <td>1/1/2017</td>\n",
       "      <td>0</td>\n",
       "      <td>single</td>\n",
       "      <td>59285</td>\n",
       "    </tr>\n",
       "    <tr>\n",
       "      <th>2</th>\n",
       "      <td>65803</td>\n",
       "      <td>Kenneth</td>\n",
       "      <td>Farley</td>\n",
       "      <td>Male</td>\n",
       "      <td>Idaho</td>\n",
       "      <td>35</td>\n",
       "      <td>1/1/2017</td>\n",
       "      <td>2</td>\n",
       "      <td>married</td>\n",
       "      <td>99568</td>\n",
       "    </tr>\n",
       "    <tr>\n",
       "      <th>3</th>\n",
       "      <td>125935</td>\n",
       "      <td>Michelle</td>\n",
       "      <td>Hicks</td>\n",
       "      <td>Female</td>\n",
       "      <td>Iowa</td>\n",
       "      <td>40</td>\n",
       "      <td>1/1/2017</td>\n",
       "      <td>0</td>\n",
       "      <td>single</td>\n",
       "      <td>42049</td>\n",
       "    </tr>\n",
       "    <tr>\n",
       "      <th>4</th>\n",
       "      <td>130797</td>\n",
       "      <td>Ann</td>\n",
       "      <td>Gilmore</td>\n",
       "      <td>Female</td>\n",
       "      <td>Maryland</td>\n",
       "      <td>26</td>\n",
       "      <td>1/1/2017</td>\n",
       "      <td>1</td>\n",
       "      <td>married</td>\n",
       "      <td>40374</td>\n",
       "    </tr>\n",
       "    <tr>\n",
       "      <th>5</th>\n",
       "      <td>133128</td>\n",
       "      <td>Cynthia</td>\n",
       "      <td>Noble</td>\n",
       "      <td>Female</td>\n",
       "      <td>Kentucky</td>\n",
       "      <td>43</td>\n",
       "      <td>1/1/2017</td>\n",
       "      <td>2</td>\n",
       "      <td>married</td>\n",
       "      <td>49643</td>\n",
       "    </tr>\n",
       "    <tr>\n",
       "      <th>6</th>\n",
       "      <td>152052</td>\n",
       "      <td>Chris</td>\n",
       "      <td>Walton</td>\n",
       "      <td>Male</td>\n",
       "      <td>Montana</td>\n",
       "      <td>20</td>\n",
       "      <td>1/1/2017</td>\n",
       "      <td>0</td>\n",
       "      <td>single</td>\n",
       "      <td>61746</td>\n",
       "    </tr>\n",
       "    <tr>\n",
       "      <th>7</th>\n",
       "      <td>168851</td>\n",
       "      <td>Joseph</td>\n",
       "      <td>Hickman</td>\n",
       "      <td>Male</td>\n",
       "      <td>South Carolina</td>\n",
       "      <td>30</td>\n",
       "      <td>1/1/2017</td>\n",
       "      <td>0</td>\n",
       "      <td>single</td>\n",
       "      <td>63712</td>\n",
       "    </tr>\n",
       "    <tr>\n",
       "      <th>8</th>\n",
       "      <td>69965</td>\n",
       "      <td>Jeremy</td>\n",
       "      <td>Vang</td>\n",
       "      <td>Male</td>\n",
       "      <td>Texas</td>\n",
       "      <td>47</td>\n",
       "      <td>1/1/2017</td>\n",
       "      <td>1</td>\n",
       "      <td>married</td>\n",
       "      <td>162432</td>\n",
       "    </tr>\n",
       "    <tr>\n",
       "      <th>9</th>\n",
       "      <td>82820</td>\n",
       "      <td>Shawn</td>\n",
       "      <td>Chung</td>\n",
       "      <td>Male</td>\n",
       "      <td>Virginia</td>\n",
       "      <td>26</td>\n",
       "      <td>1/1/2017</td>\n",
       "      <td>2</td>\n",
       "      <td>married</td>\n",
       "      <td>32072</td>\n",
       "    </tr>\n",
       "  </tbody>\n",
       "</table>\n",
       "</div>"
      ],
      "text/plain": [
       "   user_id First Name    Surnam  Gender           STATE  Age date_joined  \\\n",
       "0    26711    Deborah  Esquivel  Female        Missouri   48    1/1/2017   \n",
       "1    33890   Patricia      Hart  Female      New Mexico   36    1/1/2017   \n",
       "2    65803    Kenneth    Farley    Male           Idaho   35    1/1/2017   \n",
       "3   125935   Michelle     Hicks  Female            Iowa   40    1/1/2017   \n",
       "4   130797        Ann   Gilmore  Female        Maryland   26    1/1/2017   \n",
       "5   133128    Cynthia     Noble  Female        Kentucky   43    1/1/2017   \n",
       "6   152052      Chris    Walton    Male         Montana   20    1/1/2017   \n",
       "7   168851     Joseph   Hickman    Male  South Carolina   30    1/1/2017   \n",
       "8    69965     Jeremy      Vang    Male           Texas   47    1/1/2017   \n",
       "9    82820      Shawn     Chung    Male        Virginia   26    1/1/2017   \n",
       "\n",
       "   n_dependants fam_status  income  \n",
       "0             3    married  165665  \n",
       "1             0     single   59285  \n",
       "2             2    married   99568  \n",
       "3             0     single   42049  \n",
       "4             1    married   40374  \n",
       "5             2    married   49643  \n",
       "6             0     single   61746  \n",
       "7             0     single   63712  \n",
       "8             1    married  162432  \n",
       "9             2    married   32072  "
      ]
     },
     "execution_count": 5,
     "metadata": {},
     "output_type": "execute_result"
    }
   ],
   "source": [
    "cust.head(10)"
   ]
  },
  {
   "cell_type": "code",
   "execution_count": 6,
   "id": "9e52b376",
   "metadata": {},
   "outputs": [],
   "source": [
    "cust.rename(columns={'STATE': 'State'}, inplace=True)"
   ]
  },
  {
   "cell_type": "code",
   "execution_count": 7,
   "id": "05d2cfcd",
   "metadata": {},
   "outputs": [],
   "source": [
    "cust.rename(columns={'date_joined': 'Joining Date'}, inplace=True)"
   ]
  },
  {
   "cell_type": "code",
   "execution_count": 8,
   "id": "440fe18a",
   "metadata": {},
   "outputs": [],
   "source": [
    "cust.rename(columns={'n_dependants': 'Dependants'}, inplace=True)"
   ]
  },
  {
   "cell_type": "code",
   "execution_count": 33,
   "id": "152b5a59",
   "metadata": {},
   "outputs": [],
   "source": [
    "cust.rename(columns={'fam_status': 'Family Status'}, inplace=True)"
   ]
  },
  {
   "cell_type": "code",
   "execution_count": 10,
   "id": "799c0983",
   "metadata": {},
   "outputs": [],
   "source": [
    "# in case I want to drop a column: \n",
    "#cust.drop(columns='column_to_delete', inplace=True)"
   ]
  },
  {
   "cell_type": "code",
   "execution_count": 11,
   "id": "0cac683e",
   "metadata": {},
   "outputs": [
    {
     "data": {
      "text/html": [
       "<div>\n",
       "<style scoped>\n",
       "    .dataframe tbody tr th:only-of-type {\n",
       "        vertical-align: middle;\n",
       "    }\n",
       "\n",
       "    .dataframe tbody tr th {\n",
       "        vertical-align: top;\n",
       "    }\n",
       "\n",
       "    .dataframe thead th {\n",
       "        text-align: right;\n",
       "    }\n",
       "</style>\n",
       "<table border=\"1\" class=\"dataframe\">\n",
       "  <thead>\n",
       "    <tr style=\"text-align: right;\">\n",
       "      <th></th>\n",
       "      <th>user_id</th>\n",
       "      <th>First Name</th>\n",
       "      <th>Surnam</th>\n",
       "      <th>Gender</th>\n",
       "      <th>State</th>\n",
       "      <th>Age</th>\n",
       "      <th>Joining Date</th>\n",
       "      <th>Dependants</th>\n",
       "      <th>fam_status</th>\n",
       "      <th>income</th>\n",
       "    </tr>\n",
       "  </thead>\n",
       "  <tbody>\n",
       "    <tr>\n",
       "      <th>0</th>\n",
       "      <td>26711</td>\n",
       "      <td>Deborah</td>\n",
       "      <td>Esquivel</td>\n",
       "      <td>Female</td>\n",
       "      <td>Missouri</td>\n",
       "      <td>48</td>\n",
       "      <td>1/1/2017</td>\n",
       "      <td>3</td>\n",
       "      <td>married</td>\n",
       "      <td>165665</td>\n",
       "    </tr>\n",
       "    <tr>\n",
       "      <th>1</th>\n",
       "      <td>33890</td>\n",
       "      <td>Patricia</td>\n",
       "      <td>Hart</td>\n",
       "      <td>Female</td>\n",
       "      <td>New Mexico</td>\n",
       "      <td>36</td>\n",
       "      <td>1/1/2017</td>\n",
       "      <td>0</td>\n",
       "      <td>single</td>\n",
       "      <td>59285</td>\n",
       "    </tr>\n",
       "    <tr>\n",
       "      <th>2</th>\n",
       "      <td>65803</td>\n",
       "      <td>Kenneth</td>\n",
       "      <td>Farley</td>\n",
       "      <td>Male</td>\n",
       "      <td>Idaho</td>\n",
       "      <td>35</td>\n",
       "      <td>1/1/2017</td>\n",
       "      <td>2</td>\n",
       "      <td>married</td>\n",
       "      <td>99568</td>\n",
       "    </tr>\n",
       "    <tr>\n",
       "      <th>3</th>\n",
       "      <td>125935</td>\n",
       "      <td>Michelle</td>\n",
       "      <td>Hicks</td>\n",
       "      <td>Female</td>\n",
       "      <td>Iowa</td>\n",
       "      <td>40</td>\n",
       "      <td>1/1/2017</td>\n",
       "      <td>0</td>\n",
       "      <td>single</td>\n",
       "      <td>42049</td>\n",
       "    </tr>\n",
       "    <tr>\n",
       "      <th>4</th>\n",
       "      <td>130797</td>\n",
       "      <td>Ann</td>\n",
       "      <td>Gilmore</td>\n",
       "      <td>Female</td>\n",
       "      <td>Maryland</td>\n",
       "      <td>26</td>\n",
       "      <td>1/1/2017</td>\n",
       "      <td>1</td>\n",
       "      <td>married</td>\n",
       "      <td>40374</td>\n",
       "    </tr>\n",
       "    <tr>\n",
       "      <th>5</th>\n",
       "      <td>133128</td>\n",
       "      <td>Cynthia</td>\n",
       "      <td>Noble</td>\n",
       "      <td>Female</td>\n",
       "      <td>Kentucky</td>\n",
       "      <td>43</td>\n",
       "      <td>1/1/2017</td>\n",
       "      <td>2</td>\n",
       "      <td>married</td>\n",
       "      <td>49643</td>\n",
       "    </tr>\n",
       "    <tr>\n",
       "      <th>6</th>\n",
       "      <td>152052</td>\n",
       "      <td>Chris</td>\n",
       "      <td>Walton</td>\n",
       "      <td>Male</td>\n",
       "      <td>Montana</td>\n",
       "      <td>20</td>\n",
       "      <td>1/1/2017</td>\n",
       "      <td>0</td>\n",
       "      <td>single</td>\n",
       "      <td>61746</td>\n",
       "    </tr>\n",
       "    <tr>\n",
       "      <th>7</th>\n",
       "      <td>168851</td>\n",
       "      <td>Joseph</td>\n",
       "      <td>Hickman</td>\n",
       "      <td>Male</td>\n",
       "      <td>South Carolina</td>\n",
       "      <td>30</td>\n",
       "      <td>1/1/2017</td>\n",
       "      <td>0</td>\n",
       "      <td>single</td>\n",
       "      <td>63712</td>\n",
       "    </tr>\n",
       "    <tr>\n",
       "      <th>8</th>\n",
       "      <td>69965</td>\n",
       "      <td>Jeremy</td>\n",
       "      <td>Vang</td>\n",
       "      <td>Male</td>\n",
       "      <td>Texas</td>\n",
       "      <td>47</td>\n",
       "      <td>1/1/2017</td>\n",
       "      <td>1</td>\n",
       "      <td>married</td>\n",
       "      <td>162432</td>\n",
       "    </tr>\n",
       "    <tr>\n",
       "      <th>9</th>\n",
       "      <td>82820</td>\n",
       "      <td>Shawn</td>\n",
       "      <td>Chung</td>\n",
       "      <td>Male</td>\n",
       "      <td>Virginia</td>\n",
       "      <td>26</td>\n",
       "      <td>1/1/2017</td>\n",
       "      <td>2</td>\n",
       "      <td>married</td>\n",
       "      <td>32072</td>\n",
       "    </tr>\n",
       "  </tbody>\n",
       "</table>\n",
       "</div>"
      ],
      "text/plain": [
       "   user_id First Name    Surnam  Gender           State  Age Joining Date  \\\n",
       "0    26711    Deborah  Esquivel  Female        Missouri   48     1/1/2017   \n",
       "1    33890   Patricia      Hart  Female      New Mexico   36     1/1/2017   \n",
       "2    65803    Kenneth    Farley    Male           Idaho   35     1/1/2017   \n",
       "3   125935   Michelle     Hicks  Female            Iowa   40     1/1/2017   \n",
       "4   130797        Ann   Gilmore  Female        Maryland   26     1/1/2017   \n",
       "5   133128    Cynthia     Noble  Female        Kentucky   43     1/1/2017   \n",
       "6   152052      Chris    Walton    Male         Montana   20     1/1/2017   \n",
       "7   168851     Joseph   Hickman    Male  South Carolina   30     1/1/2017   \n",
       "8    69965     Jeremy      Vang    Male           Texas   47     1/1/2017   \n",
       "9    82820      Shawn     Chung    Male        Virginia   26     1/1/2017   \n",
       "\n",
       "   Dependants fam_status  income  \n",
       "0           3    married  165665  \n",
       "1           0     single   59285  \n",
       "2           2    married   99568  \n",
       "3           0     single   42049  \n",
       "4           1    married   40374  \n",
       "5           2    married   49643  \n",
       "6           0     single   61746  \n",
       "7           0     single   63712  \n",
       "8           1    married  162432  \n",
       "9           2    married   32072  "
      ]
     },
     "execution_count": 11,
     "metadata": {},
     "output_type": "execute_result"
    }
   ],
   "source": [
    "cust.head(10)"
   ]
  },
  {
   "cell_type": "code",
   "execution_count": 12,
   "id": "d4be2a54",
   "metadata": {},
   "outputs": [],
   "source": [
    "cust.rename(columns={'user_id': 'User Id'}, inplace=True)"
   ]
  },
  {
   "cell_type": "code",
   "execution_count": 13,
   "id": "ac7b9b6d",
   "metadata": {},
   "outputs": [],
   "source": [
    "cust.rename(columns={'fam_status': 'Family_status'}, inplace=True)"
   ]
  },
  {
   "cell_type": "code",
   "execution_count": 14,
   "id": "28f3fa71",
   "metadata": {},
   "outputs": [],
   "source": [
    "cust.rename(columns={'income': 'Income'}, inplace=True)"
   ]
  },
  {
   "cell_type": "code",
   "execution_count": 22,
   "id": "6e946593",
   "metadata": {},
   "outputs": [],
   "source": [
    "cust.rename(columns={'Family_status': 'Family Status'}, inplace=True)"
   ]
  },
  {
   "cell_type": "code",
   "execution_count": 28,
   "id": "29457268",
   "metadata": {},
   "outputs": [
    {
     "data": {
      "text/html": [
       "<div>\n",
       "<style scoped>\n",
       "    .dataframe tbody tr th:only-of-type {\n",
       "        vertical-align: middle;\n",
       "    }\n",
       "\n",
       "    .dataframe tbody tr th {\n",
       "        vertical-align: top;\n",
       "    }\n",
       "\n",
       "    .dataframe thead th {\n",
       "        text-align: right;\n",
       "    }\n",
       "</style>\n",
       "<table border=\"1\" class=\"dataframe\">\n",
       "  <thead>\n",
       "    <tr style=\"text-align: right;\">\n",
       "      <th></th>\n",
       "      <th>User Id</th>\n",
       "      <th>First Name</th>\n",
       "      <th>Surname</th>\n",
       "      <th>Gender</th>\n",
       "      <th>State</th>\n",
       "      <th>Age</th>\n",
       "      <th>Joining Date</th>\n",
       "      <th>Dependants</th>\n",
       "      <th>Family Status</th>\n",
       "      <th>Income</th>\n",
       "      <th>First Name</th>\n",
       "    </tr>\n",
       "  </thead>\n",
       "  <tbody>\n",
       "    <tr>\n",
       "      <th>0</th>\n",
       "      <td>26711</td>\n",
       "      <td>Deborah</td>\n",
       "      <td>Esquivel</td>\n",
       "      <td>Female</td>\n",
       "      <td>Missouri</td>\n",
       "      <td>48</td>\n",
       "      <td>1/1/2017</td>\n",
       "      <td>3</td>\n",
       "      <td>married</td>\n",
       "      <td>165665</td>\n",
       "      <td>Deborah</td>\n",
       "    </tr>\n",
       "    <tr>\n",
       "      <th>1</th>\n",
       "      <td>33890</td>\n",
       "      <td>Patricia</td>\n",
       "      <td>Hart</td>\n",
       "      <td>Female</td>\n",
       "      <td>New Mexico</td>\n",
       "      <td>36</td>\n",
       "      <td>1/1/2017</td>\n",
       "      <td>0</td>\n",
       "      <td>single</td>\n",
       "      <td>59285</td>\n",
       "      <td>Patricia</td>\n",
       "    </tr>\n",
       "    <tr>\n",
       "      <th>2</th>\n",
       "      <td>65803</td>\n",
       "      <td>Kenneth</td>\n",
       "      <td>Farley</td>\n",
       "      <td>Male</td>\n",
       "      <td>Idaho</td>\n",
       "      <td>35</td>\n",
       "      <td>1/1/2017</td>\n",
       "      <td>2</td>\n",
       "      <td>married</td>\n",
       "      <td>99568</td>\n",
       "      <td>Kenneth</td>\n",
       "    </tr>\n",
       "    <tr>\n",
       "      <th>3</th>\n",
       "      <td>125935</td>\n",
       "      <td>Michelle</td>\n",
       "      <td>Hicks</td>\n",
       "      <td>Female</td>\n",
       "      <td>Iowa</td>\n",
       "      <td>40</td>\n",
       "      <td>1/1/2017</td>\n",
       "      <td>0</td>\n",
       "      <td>single</td>\n",
       "      <td>42049</td>\n",
       "      <td>Michelle</td>\n",
       "    </tr>\n",
       "    <tr>\n",
       "      <th>4</th>\n",
       "      <td>130797</td>\n",
       "      <td>Ann</td>\n",
       "      <td>Gilmore</td>\n",
       "      <td>Female</td>\n",
       "      <td>Maryland</td>\n",
       "      <td>26</td>\n",
       "      <td>1/1/2017</td>\n",
       "      <td>1</td>\n",
       "      <td>married</td>\n",
       "      <td>40374</td>\n",
       "      <td>Ann</td>\n",
       "    </tr>\n",
       "    <tr>\n",
       "      <th>5</th>\n",
       "      <td>133128</td>\n",
       "      <td>Cynthia</td>\n",
       "      <td>Noble</td>\n",
       "      <td>Female</td>\n",
       "      <td>Kentucky</td>\n",
       "      <td>43</td>\n",
       "      <td>1/1/2017</td>\n",
       "      <td>2</td>\n",
       "      <td>married</td>\n",
       "      <td>49643</td>\n",
       "      <td>Cynthia</td>\n",
       "    </tr>\n",
       "    <tr>\n",
       "      <th>6</th>\n",
       "      <td>152052</td>\n",
       "      <td>Chris</td>\n",
       "      <td>Walton</td>\n",
       "      <td>Male</td>\n",
       "      <td>Montana</td>\n",
       "      <td>20</td>\n",
       "      <td>1/1/2017</td>\n",
       "      <td>0</td>\n",
       "      <td>single</td>\n",
       "      <td>61746</td>\n",
       "      <td>Chris</td>\n",
       "    </tr>\n",
       "    <tr>\n",
       "      <th>7</th>\n",
       "      <td>168851</td>\n",
       "      <td>Joseph</td>\n",
       "      <td>Hickman</td>\n",
       "      <td>Male</td>\n",
       "      <td>South Carolina</td>\n",
       "      <td>30</td>\n",
       "      <td>1/1/2017</td>\n",
       "      <td>0</td>\n",
       "      <td>single</td>\n",
       "      <td>63712</td>\n",
       "      <td>Joseph</td>\n",
       "    </tr>\n",
       "    <tr>\n",
       "      <th>8</th>\n",
       "      <td>69965</td>\n",
       "      <td>Jeremy</td>\n",
       "      <td>Vang</td>\n",
       "      <td>Male</td>\n",
       "      <td>Texas</td>\n",
       "      <td>47</td>\n",
       "      <td>1/1/2017</td>\n",
       "      <td>1</td>\n",
       "      <td>married</td>\n",
       "      <td>162432</td>\n",
       "      <td>Jeremy</td>\n",
       "    </tr>\n",
       "    <tr>\n",
       "      <th>9</th>\n",
       "      <td>82820</td>\n",
       "      <td>Shawn</td>\n",
       "      <td>Chung</td>\n",
       "      <td>Male</td>\n",
       "      <td>Virginia</td>\n",
       "      <td>26</td>\n",
       "      <td>1/1/2017</td>\n",
       "      <td>2</td>\n",
       "      <td>married</td>\n",
       "      <td>32072</td>\n",
       "      <td>Shawn</td>\n",
       "    </tr>\n",
       "  </tbody>\n",
       "</table>\n",
       "</div>"
      ],
      "text/plain": [
       "   User Id First Name   Surname  Gender           State  Age Joining Date  \\\n",
       "0    26711    Deborah  Esquivel  Female        Missouri   48     1/1/2017   \n",
       "1    33890   Patricia      Hart  Female      New Mexico   36     1/1/2017   \n",
       "2    65803    Kenneth    Farley    Male           Idaho   35     1/1/2017   \n",
       "3   125935   Michelle     Hicks  Female            Iowa   40     1/1/2017   \n",
       "4   130797        Ann   Gilmore  Female        Maryland   26     1/1/2017   \n",
       "5   133128    Cynthia     Noble  Female        Kentucky   43     1/1/2017   \n",
       "6   152052      Chris    Walton    Male         Montana   20     1/1/2017   \n",
       "7   168851     Joseph   Hickman    Male  South Carolina   30     1/1/2017   \n",
       "8    69965     Jeremy      Vang    Male           Texas   47     1/1/2017   \n",
       "9    82820      Shawn     Chung    Male        Virginia   26     1/1/2017   \n",
       "\n",
       "   Dependants Family Status  Income First Name   \n",
       "0           3       married  165665     Deborah  \n",
       "1           0        single   59285    Patricia  \n",
       "2           2       married   99568     Kenneth  \n",
       "3           0        single   42049    Michelle  \n",
       "4           1       married   40374         Ann  \n",
       "5           2       married   49643     Cynthia  \n",
       "6           0        single   61746       Chris  \n",
       "7           0        single   63712      Joseph  \n",
       "8           1       married  162432      Jeremy  \n",
       "9           2       married   32072       Shawn  "
      ]
     },
     "execution_count": 28,
     "metadata": {},
     "output_type": "execute_result"
    }
   ],
   "source": [
    "cust.head(10)"
   ]
  },
  {
   "cell_type": "markdown",
   "id": "bccf94c8",
   "metadata": {},
   "source": [
    "## Completing the fundamental data quality and consistency checks (Task 5)\n"
   ]
  },
  {
   "cell_type": "code",
   "execution_count": 17,
   "id": "ba3b42fe",
   "metadata": {},
   "outputs": [],
   "source": [
    "#Complete the fundamental data quality and consistency checks you’ve learned throughout this Achievement; \n",
    "#for example, check for and address missing values and duplicates, and convert any mixed-type data.\n"
   ]
  },
  {
   "cell_type": "code",
   "execution_count": 103,
   "id": "9c67da5f",
   "metadata": {},
   "outputs": [],
   "source": [
    "cust['First Name'] = cust['First Name'].astype('str')"
   ]
  },
  {
   "cell_type": "code",
   "execution_count": 18,
   "id": "3f736f10",
   "metadata": {
    "scrolled": true
   },
   "outputs": [
    {
     "data": {
      "text/plain": [
       "User Id           int64\n",
       "First Name       object\n",
       "Surname          object\n",
       "Gender           object\n",
       "State            object\n",
       "Age               int64\n",
       "Joining Date     object\n",
       "Dependants        int64\n",
       "Family_status    object\n",
       "Income            int64\n",
       "dtype: object"
      ]
     },
     "execution_count": 18,
     "metadata": {},
     "output_type": "execute_result"
    }
   ],
   "source": [
    "cust.dtypes"
   ]
  },
  {
   "cell_type": "markdown",
   "id": "e1418a63",
   "metadata": {},
   "source": [
    "## changing data types"
   ]
  },
  {
   "cell_type": "code",
   "execution_count": 19,
   "id": "c1d4fe76",
   "metadata": {},
   "outputs": [],
   "source": [
    "#changing the data type \"object\" to string to make sure it contains no mixed values "
   ]
  },
  {
   "cell_type": "code",
   "execution_count": 20,
   "id": "2d87766a",
   "metadata": {},
   "outputs": [],
   "source": [
    "cust['First Name'] = cust['First Name'].astype('str')"
   ]
  },
  {
   "cell_type": "code",
   "execution_count": 21,
   "id": "041a0d1b",
   "metadata": {},
   "outputs": [],
   "source": [
    "cust['Surname'] = cust['Surname'].astype('str')"
   ]
  },
  {
   "cell_type": "code",
   "execution_count": 24,
   "id": "cfdd5b6d",
   "metadata": {},
   "outputs": [],
   "source": [
    "cust['Gender'] = cust['Gender'].astype('str')"
   ]
  },
  {
   "cell_type": "code",
   "execution_count": 25,
   "id": "cc1caac2",
   "metadata": {},
   "outputs": [],
   "source": [
    "cust['State'] = cust['State'].astype('str')"
   ]
  },
  {
   "cell_type": "code",
   "execution_count": 26,
   "id": "c1b96523",
   "metadata": {},
   "outputs": [],
   "source": [
    "cust['Joining Date'] = cust['Joining Date'].astype('str')"
   ]
  },
  {
   "cell_type": "code",
   "execution_count": 29,
   "id": "b2505461",
   "metadata": {},
   "outputs": [],
   "source": [
    "cust['Family Status'] = cust['Family Status'].astype('str')"
   ]
  },
  {
   "cell_type": "code",
   "execution_count": 98,
   "id": "4c827596",
   "metadata": {},
   "outputs": [],
   "source": [
    "cust['User Id'] = cust['User Id'].astype('str')"
   ]
  },
  {
   "cell_type": "markdown",
   "id": "d63de133",
   "metadata": {},
   "source": [
    "I decided to not drop any columns since i dont know yet if i will need them later"
   ]
  },
  {
   "cell_type": "markdown",
   "id": "1c194f6a",
   "metadata": {},
   "source": [
    "## looking for mixed data type columns in the df "
   ]
  },
  {
   "cell_type": "code",
   "execution_count": 106,
   "id": "64c82e5a",
   "metadata": {},
   "outputs": [
    {
     "name": "stderr",
     "output_type": "stream",
     "text": [
      "/var/folders/3b/250d_ncn2cb7rf34jj9d3gl40000gq/T/ipykernel_56649/2419388362.py:3: FutureWarning: DataFrame.applymap has been deprecated. Use DataFrame.map instead.\n",
      "  mixed_types_per_column = cust.applymap(type)\n"
     ]
    },
    {
     "name": "stdout",
     "output_type": "stream",
     "text": [
      "Columns with mixed data types:\n",
      "[]\n"
     ]
    }
   ],
   "source": [
    "#I didnt find an approach in the last exercises how to find mixed data. Therefore i googled and tried this approach: \n",
    "\n",
    "# Check for mixed data types in each column of the DataFrame 'customers'\n",
    "mixed_types_per_column = cust.applymap(type)\n",
    "\n",
    "# Identify columns with mixed data types\n",
    "columns_with_mixed_types = mixed_types_per_column.apply(lambda x: len(set(x))) > 1\n",
    "columns_with_mixed_types = columns_with_mixed_types[columns_with_mixed_types].index.tolist()\n",
    "\n",
    "# Display columns with mixed data types\n",
    "print(\"Columns with mixed data types:\")\n",
    "print(columns_with_mixed_types)"
   ]
  },
  {
   "cell_type": "markdown",
   "id": "c37f447a",
   "metadata": {},
   "source": [
    "There are no columns with mixed data type. Could be because I changed some of them beforehand. "
   ]
  },
  {
   "cell_type": "markdown",
   "id": "151e005c",
   "metadata": {},
   "source": [
    "Question: is there an easier or \"more intuitive\"  approach?"
   ]
  },
  {
   "cell_type": "markdown",
   "id": "6e9a1ad9",
   "metadata": {},
   "source": [
    "## Finding missing entries"
   ]
  },
  {
   "cell_type": "code",
   "execution_count": 76,
   "id": "b15f56c3",
   "metadata": {},
   "outputs": [],
   "source": [
    "# Count occurrences of each 'User Id'\n",
    "user_id_counts = cust['User Id'].value_counts(dropna=False)"
   ]
  },
  {
   "cell_type": "code",
   "execution_count": 72,
   "id": "d77e5b73",
   "metadata": {},
   "outputs": [
    {
     "data": {
      "text/plain": [
       "User Id\n",
       "26711     1\n",
       "67322     1\n",
       "173044    1\n",
       "61044     1\n",
       "98344     1\n",
       "         ..\n",
       "146847    1\n",
       "154991    1\n",
       "172193    1\n",
       "184326    1\n",
       "80148     1\n",
       "Name: count, Length: 206209, dtype: int64"
      ]
     },
     "execution_count": 72,
     "metadata": {},
     "output_type": "execute_result"
    }
   ],
   "source": [
    "user_id_counts"
   ]
  },
  {
   "cell_type": "code",
   "execution_count": 69,
   "id": "7c0cf45e",
   "metadata": {},
   "outputs": [],
   "source": [
    "# Filter 'User Id's with counts greater than 1 (multiple entries)\n",
    "multiple_entries = user_id_counts[user_id_counts > 1]"
   ]
  },
  {
   "cell_type": "code",
   "execution_count": 70,
   "id": "d1a73102",
   "metadata": {},
   "outputs": [
    {
     "name": "stdout",
     "output_type": "stream",
     "text": [
      "User Ids with multiple entries:\n",
      "Series([], Name: count, dtype: int64)\n"
     ]
    }
   ],
   "source": [
    "# Display 'User Id's with multiple entries\n",
    "print(\"User Ids with multiple entries:\")\n",
    "print(multiple_entries)"
   ]
  },
  {
   "cell_type": "markdown",
   "id": "f1cd49c6",
   "metadata": {},
   "source": [
    "now with \"First Name\""
   ]
  },
  {
   "cell_type": "code",
   "execution_count": null,
   "id": "5f383a95",
   "metadata": {},
   "outputs": [],
   "source": [
    "# Count occurrences of each 'First Name' value \n",
    "first_name_counts = cust['First Name'].value_counts(dropna=False)"
   ]
  },
  {
   "cell_type": "code",
   "execution_count": 79,
   "id": "f5511cb4",
   "metadata": {},
   "outputs": [
    {
     "data": {
      "text/plain": [
       "First Name\n",
       "NaN        11259\n",
       "Marilyn     2213\n",
       "Barbara     2154\n",
       "Todd        2113\n",
       "Jeremy      2104\n",
       "           ...  \n",
       "Merry        197\n",
       "Eugene       197\n",
       "Garry        191\n",
       "Ned          186\n",
       "David        186\n",
       "Name: count, Length: 208, dtype: int64"
      ]
     },
     "execution_count": 79,
     "metadata": {},
     "output_type": "execute_result"
    }
   ],
   "source": [
    "first_name_counts"
   ]
  },
  {
   "cell_type": "markdown",
   "id": "88df22e9",
   "metadata": {},
   "source": [
    "-> 11259 Nan entries "
   ]
  },
  {
   "cell_type": "markdown",
   "id": "98466870",
   "metadata": {},
   "source": [
    "Another approach: "
   ]
  },
  {
   "cell_type": "code",
   "execution_count": null,
   "id": "245591ac",
   "metadata": {},
   "outputs": [],
   "source": [
    "#count the number of missing (NaN) entries in the 'User Id' column after using value_counts(dropna=False)\n",
    "#use the isna() method in combination with sum() to count the total number of missing values in that column\n",
    "missing_values_count = cust['First Name'].isna().sum()"
   ]
  },
  {
   "cell_type": "code",
   "execution_count": 80,
   "id": "812dabbb",
   "metadata": {},
   "outputs": [
    {
     "data": {
      "text/plain": [
       "11259"
      ]
     },
     "execution_count": 80,
     "metadata": {},
     "output_type": "execute_result"
    }
   ],
   "source": [
    "missing_values_count"
   ]
  },
  {
   "cell_type": "markdown",
   "id": "bbe94b55",
   "metadata": {},
   "source": [
    "Another approach for the whole dataframe instead of just the user id or First Name column:"
   ]
  },
  {
   "cell_type": "code",
   "execution_count": 71,
   "id": "258000f8",
   "metadata": {},
   "outputs": [
    {
     "data": {
      "text/plain": [
       "User Id              0\n",
       "First Name       11259\n",
       "Surname              0\n",
       "Gender               0\n",
       "State                0\n",
       "Age                  0\n",
       "Joining Date         0\n",
       "Dependants           0\n",
       "Family Status        0\n",
       "Income               0\n",
       "First Name           0\n",
       "dtype: int64"
      ]
     },
     "execution_count": 71,
     "metadata": {},
     "output_type": "execute_result"
    }
   ],
   "source": [
    "cust.isnull().sum()"
   ]
  },
  {
   "cell_type": "markdown",
   "id": "052d85c3",
   "metadata": {},
   "source": [
    "-> First Name column has 11259 missing values \n",
    "-> I will leave it as it is, because I dont need the first Name yet ( decided later to create a df without missing values for just in case, wont hurt :D ) "
   ]
  },
  {
   "cell_type": "code",
   "execution_count": 59,
   "id": "5614e6b8",
   "metadata": {},
   "outputs": [],
   "source": [
    "#creating a data frame with only rows where the missing values are located \n",
    "df_nan=cust[cust['First Name'].isnull()== True]"
   ]
  },
  {
   "cell_type": "markdown",
   "id": "be3e5f94",
   "metadata": {},
   "source": [
    "Another possibility of treating the missing \"First Name\" Values would be creating a dataframe without \n",
    "missing values. I will do that in case I need it later. "
   ]
  },
  {
   "cell_type": "code",
   "execution_count": 81,
   "id": "15f4dbfb",
   "metadata": {},
   "outputs": [],
   "source": [
    "#creating a df without missing value rows \n",
    "cust_no_nan= cust.dropna()"
   ]
  },
  {
   "cell_type": "code",
   "execution_count": 85,
   "id": "9797ac4e",
   "metadata": {},
   "outputs": [
    {
     "data": {
      "text/plain": [
       "(194950, 11)"
      ]
     },
     "execution_count": 85,
     "metadata": {},
     "output_type": "execute_result"
    }
   ],
   "source": [
    "cust_no_nan.shape"
   ]
  },
  {
   "cell_type": "code",
   "execution_count": 86,
   "id": "71dcba71",
   "metadata": {},
   "outputs": [
    {
     "data": {
      "text/plain": [
       "(206209, 11)"
      ]
     },
     "execution_count": 86,
     "metadata": {},
     "output_type": "execute_result"
    }
   ],
   "source": [
    "cust.shape"
   ]
  },
  {
   "cell_type": "code",
   "execution_count": 87,
   "id": "be61b26d",
   "metadata": {},
   "outputs": [
    {
     "data": {
      "text/plain": [
       "11259"
      ]
     },
     "execution_count": 87,
     "metadata": {},
     "output_type": "execute_result"
    }
   ],
   "source": [
    "206209-194950"
   ]
  },
  {
   "cell_type": "markdown",
   "id": "b7f69c51",
   "metadata": {},
   "source": [
    "-> since the count of rows from the original data frame minus the count of the rows of the missing values data frame\n",
    "is 11259, the same number like the number of rows with missing entries, the cust_no_nan df is most likely right. "
   ]
  },
  {
   "cell_type": "markdown",
   "id": "042bd884",
   "metadata": {},
   "source": [
    "## Looking for full duplicates"
   ]
  },
  {
   "cell_type": "code",
   "execution_count": 91,
   "id": "0a1305d3",
   "metadata": {},
   "outputs": [],
   "source": [
    "cust_dups = cust[cust.duplicated()]"
   ]
  },
  {
   "cell_type": "code",
   "execution_count": 92,
   "id": "bd5f3559",
   "metadata": {},
   "outputs": [
    {
     "data": {
      "text/html": [
       "<div>\n",
       "<style scoped>\n",
       "    .dataframe tbody tr th:only-of-type {\n",
       "        vertical-align: middle;\n",
       "    }\n",
       "\n",
       "    .dataframe tbody tr th {\n",
       "        vertical-align: top;\n",
       "    }\n",
       "\n",
       "    .dataframe thead th {\n",
       "        text-align: right;\n",
       "    }\n",
       "</style>\n",
       "<table border=\"1\" class=\"dataframe\">\n",
       "  <thead>\n",
       "    <tr style=\"text-align: right;\">\n",
       "      <th></th>\n",
       "      <th>User Id</th>\n",
       "      <th>First Name</th>\n",
       "      <th>Surname</th>\n",
       "      <th>Gender</th>\n",
       "      <th>State</th>\n",
       "      <th>Age</th>\n",
       "      <th>Joining Date</th>\n",
       "      <th>Dependants</th>\n",
       "      <th>Family Status</th>\n",
       "      <th>Income</th>\n",
       "      <th>First Name</th>\n",
       "    </tr>\n",
       "  </thead>\n",
       "  <tbody>\n",
       "  </tbody>\n",
       "</table>\n",
       "</div>"
      ],
      "text/plain": [
       "Empty DataFrame\n",
       "Columns: [User Id, First Name, Surname, Gender, State, Age, Joining Date, Dependants, Family Status, Income, First Name ]\n",
       "Index: []"
      ]
     },
     "execution_count": 92,
     "metadata": {},
     "output_type": "execute_result"
    }
   ],
   "source": [
    "cust_dups"
   ]
  },
  {
   "cell_type": "markdown",
   "id": "2e4f2f7e",
   "metadata": {},
   "source": [
    "-> no full duplicates "
   ]
  },
  {
   "cell_type": "markdown",
   "id": "5e835f41",
   "metadata": {},
   "source": [
    "# Combining the customer data with the rest of the prepared Instacart data (Task 6) "
   ]
  },
  {
   "cell_type": "markdown",
   "id": "dea559df",
   "metadata": {},
   "source": [
    "Combine your customer data with the rest of your prepared Instacart data. \n",
    "(Hint: Make sure the key columns are the same data type!)"
   ]
  },
  {
   "cell_type": "code",
   "execution_count": 95,
   "id": "5e7266ad",
   "metadata": {},
   "outputs": [],
   "source": [
    "#importing the rest of the prepared Instacart data ('ords_prods_merge_4.8.pkl')\n",
    "ords_prods_merge=pd.read_pickle(r'/Users/bente/careerfoundry /exercise 4/Ex.4_25-10-2023 Instacart Basket Analysis/02 Data/Prepared Data/ords_prods_merge_4.8.pkl')"
   ]
  },
  {
   "cell_type": "code",
   "execution_count": 96,
   "id": "969507a2",
   "metadata": {},
   "outputs": [
    {
     "data": {
      "text/plain": [
       "product_id                 int64\n",
       "product_name              object\n",
       "aisle_id                   int64\n",
       "department_id              int64\n",
       "prices                   float64\n",
       "order_id                   int64\n",
       "user_id                   object\n",
       "order_number               int64\n",
       "orders_day_of_week         int64\n",
       "order_hour_of_day          int64\n",
       "days_since_last_order    float64\n",
       "customer_type             object\n",
       "add_to_cart_order          int64\n",
       "reordered                  int64\n",
       "price_range_loc           object\n",
       "busiest_day               object\n",
       "busiest_days              object\n",
       "busiest_period_of_day     object\n",
       "max_order                  int64\n",
       "loyalty_flag              object\n",
       "user_mean_price          float64\n",
       "spending_type             object\n",
       "order_frequency          float64\n",
       "frequency_flag            object\n",
       "dtype: object"
      ]
     },
     "execution_count": 96,
     "metadata": {},
     "output_type": "execute_result"
    }
   ],
   "source": [
    "#checking the data types \n",
    "ords_prods_merge.dtypes"
   ]
  },
  {
   "cell_type": "code",
   "execution_count": 99,
   "id": "ee0cfa6a",
   "metadata": {},
   "outputs": [
    {
     "data": {
      "text/plain": [
       "User Id          object\n",
       "First Name       object\n",
       "Surname          object\n",
       "Gender           object\n",
       "State            object\n",
       "Age               int64\n",
       "Joining Date     object\n",
       "Dependants        int64\n",
       "Family Status    object\n",
       "Income            int64\n",
       "First Name       object\n",
       "dtype: object"
      ]
     },
     "execution_count": 99,
     "metadata": {},
     "output_type": "execute_result"
    }
   ],
   "source": [
    "#checking the data types \n",
    "cust.dtypes"
   ]
  },
  {
   "cell_type": "code",
   "execution_count": 100,
   "id": "342466fc",
   "metadata": {},
   "outputs": [
    {
     "data": {
      "text/plain": [
       "<bound method NDFrame.describe of           product_id                product_name  aisle_id  department_id  \\\n",
       "0                  1  Chocolate Sandwich Cookies        61             19   \n",
       "1                  1  Chocolate Sandwich Cookies        61             19   \n",
       "2                  1  Chocolate Sandwich Cookies        61             19   \n",
       "3                  1  Chocolate Sandwich Cookies        61             19   \n",
       "4                  1  Chocolate Sandwich Cookies        61             19   \n",
       "...              ...                         ...       ...            ...   \n",
       "32404854       49688      Fresh Foaming Cleanser        73             11   \n",
       "32404855       49688      Fresh Foaming Cleanser        73             11   \n",
       "32404856       49688      Fresh Foaming Cleanser        73             11   \n",
       "32404857       49688      Fresh Foaming Cleanser        73             11   \n",
       "32404858       49688      Fresh Foaming Cleanser        73             11   \n",
       "\n",
       "          prices  order_id user_id  order_number  orders_day_of_week  \\\n",
       "0            5.8   3139998     138            28                   6   \n",
       "1            5.8   1977647     138            30                   6   \n",
       "2            5.8    389851     709             2                   0   \n",
       "3            5.8    652770     764             1                   3   \n",
       "4            5.8   1813452     764             3                   4   \n",
       "...          ...       ...     ...           ...                 ...   \n",
       "32404854    13.5   1788356  200215             2                   0   \n",
       "32404855    13.5   3401313  200377             1                   4   \n",
       "32404856    13.5    809510  200873             5                   3   \n",
       "32404857    13.5   2359893  200873             9                   3   \n",
       "32404858    13.5   2385091  205926            11                   1   \n",
       "\n",
       "          order_hour_of_day  ...    price_range_loc     busiest_day  \\\n",
       "0                        11  ...  Mid-range product  Regularly busy   \n",
       "1                        17  ...  Mid-range product  Regularly busy   \n",
       "2                        21  ...  Mid-range product     Busiest day   \n",
       "3                        13  ...  Mid-range product  Regularly busy   \n",
       "4                        17  ...  Mid-range product      Least busy   \n",
       "...                     ...  ...                ...             ...   \n",
       "32404854                  9  ...  Mid-range product     Busiest day   \n",
       "32404855                 11  ...  Mid-range product      Least busy   \n",
       "32404856                  8  ...  Mid-range product  Regularly busy   \n",
       "32404857                 15  ...  Mid-range product  Regularly busy   \n",
       "32404858                 15  ...  Mid-range product  Regularly busy   \n",
       "\n",
       "            busiest_days  busiest_period_of_day max_order      loyalty_flag  \\\n",
       "0         Regularly busy            Most orders        32  Regular customer   \n",
       "1         Regularly busy         Average orders        32  Regular customer   \n",
       "2           Busiest days         Average orders         5      New customer   \n",
       "3             Least busy            Most orders         3      New customer   \n",
       "4             Least busy         Average orders         3      New customer   \n",
       "...                  ...                    ...       ...               ...   \n",
       "32404854    Busiest days            Most orders         6      New customer   \n",
       "32404855      Least busy            Most orders         4      New customer   \n",
       "32404856      Least busy         Average orders        20  Regular customer   \n",
       "32404857      Least busy            Most orders        20  Regular customer   \n",
       "32404858    Busiest days            Most orders        11  Regular customer   \n",
       "\n",
       "         user_mean_price spending_type  order_frequency         frequency_flag  \n",
       "0               6.935811   Low spender              8.0      Frequent customer  \n",
       "1               6.935811   Low spender              8.0      Frequent customer  \n",
       "2               7.930208   Low spender              8.0      Frequent customer  \n",
       "3               4.972414   Low spender              9.0      Frequent customer  \n",
       "4               4.972414   Low spender              9.0      Frequent customer  \n",
       "...                  ...           ...              ...                    ...  \n",
       "32404854        8.220313   Low spender              7.0      Frequent customer  \n",
       "32404855        7.364516   Low spender             30.0  Non-frequent customer  \n",
       "32404856        8.500344   Low spender              6.0      Frequent customer  \n",
       "32404857        8.500344   Low spender              6.0      Frequent customer  \n",
       "32404858        8.133333   Low spender              6.0      Frequent customer  \n",
       "\n",
       "[32404859 rows x 24 columns]>"
      ]
     },
     "execution_count": 100,
     "metadata": {},
     "output_type": "execute_result"
    }
   ],
   "source": [
    "ords_prods_merge.describe\n"
   ]
  },
  {
   "cell_type": "code",
   "execution_count": 101,
   "id": "dc21ef1d",
   "metadata": {},
   "outputs": [
    {
     "data": {
      "text/plain": [
       "<bound method NDFrame.describe of        User Id First Name   Surname  Gender           State  Age Joining Date  \\\n",
       "0        26711    Deborah  Esquivel  Female        Missouri   48     1/1/2017   \n",
       "1        33890   Patricia      Hart  Female      New Mexico   36     1/1/2017   \n",
       "2        65803    Kenneth    Farley    Male           Idaho   35     1/1/2017   \n",
       "3       125935   Michelle     Hicks  Female            Iowa   40     1/1/2017   \n",
       "4       130797        Ann   Gilmore  Female        Maryland   26     1/1/2017   \n",
       "...        ...        ...       ...     ...             ...  ...          ...   \n",
       "206204  168073       Lisa      Case  Female  North Carolina   44     4/1/2020   \n",
       "206205   49635     Jeremy   Robbins    Male          Hawaii   62     4/1/2020   \n",
       "206206  135902      Doris  Richmond  Female        Missouri   66     4/1/2020   \n",
       "206207   81095       Rose   Rollins  Female      California   27     4/1/2020   \n",
       "206208   80148    Cynthia     Noble  Female        New York   55     4/1/2020   \n",
       "\n",
       "        Dependants Family Status  Income First Name   \n",
       "0                3       married  165665     Deborah  \n",
       "1                0        single   59285    Patricia  \n",
       "2                2       married   99568     Kenneth  \n",
       "3                0        single   42049    Michelle  \n",
       "4                1       married   40374         Ann  \n",
       "...            ...           ...     ...         ...  \n",
       "206204           1       married  148828        Lisa  \n",
       "206205           3       married  168639      Jeremy  \n",
       "206206           2       married   53374       Doris  \n",
       "206207           1       married   99799        Rose  \n",
       "206208           1       married   57095     Cynthia  \n",
       "\n",
       "[206209 rows x 11 columns]>"
      ]
     },
     "execution_count": 101,
     "metadata": {},
     "output_type": "execute_result"
    }
   ],
   "source": [
    "cust.describe"
   ]
  },
  {
   "cell_type": "code",
   "execution_count": 129,
   "id": "5ef39681",
   "metadata": {},
   "outputs": [],
   "source": [
    "#in order to have the key columns with the same name I will rename \"user_id\" to \"User Id\"\n",
    "ords_prods_merge.rename(columns={'user_id': 'User Id'}, inplace=True)"
   ]
  },
  {
   "cell_type": "code",
   "execution_count": 130,
   "id": "009ee1d9",
   "metadata": {},
   "outputs": [],
   "source": [
    "#using a inner join to merge the both sets and creating acreate an additional column that indicates the \n",
    "#source of the data within that row. \n",
    "ords_prods_custs_merge = ords_prods_merge.merge(cust, on = 'User Id', indicator = True)"
   ]
  },
  {
   "cell_type": "code",
   "execution_count": 131,
   "id": "e7ba8c97",
   "metadata": {},
   "outputs": [
    {
     "data": {
      "text/plain": [
       "_merge\n",
       "both          32404859\n",
       "left_only            0\n",
       "right_only           0\n",
       "Name: count, dtype: int64"
      ]
     },
     "execution_count": 131,
     "metadata": {},
     "output_type": "execute_result"
    }
   ],
   "source": [
    "#checking the new df for match \n",
    "ords_prods_custs_merge['_merge'].value_counts()"
   ]
  },
  {
   "cell_type": "code",
   "execution_count": 132,
   "id": "89dc7efa",
   "metadata": {},
   "outputs": [
    {
     "name": "stdout",
     "output_type": "stream",
     "text": [
      "32404859\n"
     ]
    }
   ],
   "source": [
    "#finding out how many rows the new df has \n",
    "row_count = len(ords_prods_custs_merge)\n",
    "print(row_count)"
   ]
  },
  {
   "cell_type": "code",
   "execution_count": 133,
   "id": "84be42cb",
   "metadata": {},
   "outputs": [],
   "source": [
    "# Checking inner merge matches by looking at outer merge\n",
    "merge_check = ords_prods_merge.merge(cust, on = 'User Id', indicator = True, how = 'outer')"
   ]
  },
  {
   "cell_type": "code",
   "execution_count": 134,
   "id": "4b313160",
   "metadata": {},
   "outputs": [
    {
     "data": {
      "text/plain": [
       "_merge\n",
       "both          32404859\n",
       "left_only            0\n",
       "right_only           0\n",
       "Name: count, dtype: int64"
      ]
     },
     "execution_count": 134,
     "metadata": {},
     "output_type": "execute_result"
    }
   ],
   "source": [
    "#checking the new df matches \n",
    "ords_prods_custs_merge['_merge'].value_counts()"
   ]
  },
  {
   "cell_type": "markdown",
   "id": "9e079b90",
   "metadata": {},
   "source": [
    "-> Both dataframes have full match. "
   ]
  },
  {
   "cell_type": "markdown",
   "id": "c3857506",
   "metadata": {},
   "source": [
    "## Exporting the data set "
   ]
  },
  {
   "cell_type": "code",
   "execution_count": 136,
   "id": "9b1e83da",
   "metadata": {},
   "outputs": [],
   "source": [
    "path = '/Users/bente/careerfoundry /exercise 4/Ex.4_25-10-2023 Instacart Basket Analysis'"
   ]
  },
  {
   "cell_type": "code",
   "execution_count": 137,
   "id": "9e2d3274",
   "metadata": {},
   "outputs": [],
   "source": [
    "ords_prods_custs_merge.to_pickle(os.path.join(path, '02 Data','Prepared Data', 'ords_prods_custs_merge.pkl'))"
   ]
  },
  {
   "cell_type": "code",
   "execution_count": null,
   "id": "072cc308",
   "metadata": {},
   "outputs": [],
   "source": []
  }
 ],
 "metadata": {
  "kernelspec": {
   "display_name": "Python 3 (ipykernel)",
   "language": "python",
   "name": "python3"
  },
  "language_info": {
   "codemirror_mode": {
    "name": "ipython",
    "version": 3
   },
   "file_extension": ".py",
   "mimetype": "text/x-python",
   "name": "python",
   "nbconvert_exporter": "python",
   "pygments_lexer": "ipython3",
   "version": "3.10.9"
  }
 },
 "nbformat": 4,
 "nbformat_minor": 5
}
