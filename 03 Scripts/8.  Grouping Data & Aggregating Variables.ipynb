{
 "cells": [
  {
   "cell_type": "code",
   "execution_count": null,
   "id": "38e9e21e",
   "metadata": {},
   "outputs": [],
   "source": [
    "Table of Content \n",
    "1.importing libaries \n",
    "2.importing the data \n",
    "3.Task 2 \n",
    " 3.1 checking the df \n",
    " 3.2 find the aggregated mean of the “order_number” column grouped by “department_id” \n",
    "4. Task 4 \n",
    " 4.1 creating a loyalty flag for existing customers using the transform() and loc() functions \n",
    "5. Task 5 \n",
    " 5.1 checking the basic statistics of the product prices for each loyalty category \n",
    "6. task 6 \n",
    " 6.1 Creating a spending flag for each user\n",
    "7.Task 7\n",
    " 7.1 determining frequent versus non-frequent customers\n",
    "8. task 8 \n",
    " 8.1 Exporting the data \n"
   ]
  },
  {
   "cell_type": "markdown",
   "id": "76e90773",
   "metadata": {},
   "source": [
    "## Importing libraries\n"
   ]
  },
  {
   "cell_type": "code",
   "execution_count": 27,
   "id": "c0980168",
   "metadata": {},
   "outputs": [],
   "source": [
    "import pandas as pd\n",
    "import numpy as np\n",
    "import os"
   ]
  },
  {
   "cell_type": "markdown",
   "id": "08b9ccba",
   "metadata": {},
   "source": [
    "## Importing the data\n"
   ]
  },
  {
   "cell_type": "code",
   "execution_count": 28,
   "id": "a66da927",
   "metadata": {},
   "outputs": [],
   "source": [
    "ords_prods_merge=pd.read_pickle(r'/Users/bente/careerfoundry /exercise 4/Ex.4_25-10-2023 Instacart Basket Analysis/02 Data/Prepared Data/ords_prods_merge.pkl')"
   ]
  },
  {
   "cell_type": "code",
   "execution_count": 29,
   "id": "e8ca2466",
   "metadata": {},
   "outputs": [],
   "source": [
    "df=ords_prods_merge"
   ]
  },
  {
   "cell_type": "markdown",
   "id": "3aba92df",
   "metadata": {},
   "source": [
    "# Task 2"
   ]
  },
  {
   "cell_type": "markdown",
   "id": "e9f798ab",
   "metadata": {},
   "source": [
    "## Checking the df "
   ]
  },
  {
   "cell_type": "code",
   "execution_count": 30,
   "id": "4c048b39",
   "metadata": {},
   "outputs": [
    {
     "data": {
      "text/plain": [
       "(32404859, 19)"
      ]
     },
     "execution_count": 30,
     "metadata": {},
     "output_type": "execute_result"
    }
   ],
   "source": [
    "df.shape"
   ]
  },
  {
   "cell_type": "code",
   "execution_count": 31,
   "id": "86d5be6b",
   "metadata": {},
   "outputs": [
    {
     "data": {
      "text/html": [
       "<div>\n",
       "<style scoped>\n",
       "    .dataframe tbody tr th:only-of-type {\n",
       "        vertical-align: middle;\n",
       "    }\n",
       "\n",
       "    .dataframe tbody tr th {\n",
       "        vertical-align: top;\n",
       "    }\n",
       "\n",
       "    .dataframe thead th {\n",
       "        text-align: right;\n",
       "    }\n",
       "</style>\n",
       "<table border=\"1\" class=\"dataframe\">\n",
       "  <thead>\n",
       "    <tr style=\"text-align: right;\">\n",
       "      <th></th>\n",
       "      <th>product_id</th>\n",
       "      <th>product_name</th>\n",
       "      <th>aisle_id</th>\n",
       "      <th>department_id</th>\n",
       "      <th>prices</th>\n",
       "      <th>order_id</th>\n",
       "      <th>user_id</th>\n",
       "      <th>order_number</th>\n",
       "      <th>orders_day_of_week</th>\n",
       "      <th>order_hour_of_day</th>\n",
       "      <th>days_since_last_order</th>\n",
       "      <th>customer_type</th>\n",
       "      <th>add_to_cart_order</th>\n",
       "      <th>reordered</th>\n",
       "      <th>_merge</th>\n",
       "      <th>price_range_loc</th>\n",
       "      <th>busiest_day</th>\n",
       "      <th>busiest_days</th>\n",
       "      <th>busiest_period_of_day</th>\n",
       "    </tr>\n",
       "  </thead>\n",
       "  <tbody>\n",
       "    <tr>\n",
       "      <th>0</th>\n",
       "      <td>1</td>\n",
       "      <td>Chocolate Sandwich Cookies</td>\n",
       "      <td>61</td>\n",
       "      <td>19</td>\n",
       "      <td>5.8</td>\n",
       "      <td>3139998</td>\n",
       "      <td>138</td>\n",
       "      <td>28</td>\n",
       "      <td>6</td>\n",
       "      <td>11</td>\n",
       "      <td>3.0</td>\n",
       "      <td>returning_customer</td>\n",
       "      <td>5</td>\n",
       "      <td>0</td>\n",
       "      <td>both</td>\n",
       "      <td>Mid-range product</td>\n",
       "      <td>Regularly busy</td>\n",
       "      <td>Regularly busy</td>\n",
       "      <td>Most orders</td>\n",
       "    </tr>\n",
       "    <tr>\n",
       "      <th>1</th>\n",
       "      <td>1</td>\n",
       "      <td>Chocolate Sandwich Cookies</td>\n",
       "      <td>61</td>\n",
       "      <td>19</td>\n",
       "      <td>5.8</td>\n",
       "      <td>1977647</td>\n",
       "      <td>138</td>\n",
       "      <td>30</td>\n",
       "      <td>6</td>\n",
       "      <td>17</td>\n",
       "      <td>20.0</td>\n",
       "      <td>returning_customer</td>\n",
       "      <td>1</td>\n",
       "      <td>1</td>\n",
       "      <td>both</td>\n",
       "      <td>Mid-range product</td>\n",
       "      <td>Regularly busy</td>\n",
       "      <td>Regularly busy</td>\n",
       "      <td>Average orders</td>\n",
       "    </tr>\n",
       "    <tr>\n",
       "      <th>2</th>\n",
       "      <td>1</td>\n",
       "      <td>Chocolate Sandwich Cookies</td>\n",
       "      <td>61</td>\n",
       "      <td>19</td>\n",
       "      <td>5.8</td>\n",
       "      <td>389851</td>\n",
       "      <td>709</td>\n",
       "      <td>2</td>\n",
       "      <td>0</td>\n",
       "      <td>21</td>\n",
       "      <td>6.0</td>\n",
       "      <td>returning_customer</td>\n",
       "      <td>20</td>\n",
       "      <td>0</td>\n",
       "      <td>both</td>\n",
       "      <td>Mid-range product</td>\n",
       "      <td>Busiest day</td>\n",
       "      <td>Busiest days</td>\n",
       "      <td>Average orders</td>\n",
       "    </tr>\n",
       "    <tr>\n",
       "      <th>3</th>\n",
       "      <td>1</td>\n",
       "      <td>Chocolate Sandwich Cookies</td>\n",
       "      <td>61</td>\n",
       "      <td>19</td>\n",
       "      <td>5.8</td>\n",
       "      <td>652770</td>\n",
       "      <td>764</td>\n",
       "      <td>1</td>\n",
       "      <td>3</td>\n",
       "      <td>13</td>\n",
       "      <td>NaN</td>\n",
       "      <td>new_customer</td>\n",
       "      <td>10</td>\n",
       "      <td>0</td>\n",
       "      <td>both</td>\n",
       "      <td>Mid-range product</td>\n",
       "      <td>Regularly busy</td>\n",
       "      <td>Least busy</td>\n",
       "      <td>Most orders</td>\n",
       "    </tr>\n",
       "    <tr>\n",
       "      <th>4</th>\n",
       "      <td>1</td>\n",
       "      <td>Chocolate Sandwich Cookies</td>\n",
       "      <td>61</td>\n",
       "      <td>19</td>\n",
       "      <td>5.8</td>\n",
       "      <td>1813452</td>\n",
       "      <td>764</td>\n",
       "      <td>3</td>\n",
       "      <td>4</td>\n",
       "      <td>17</td>\n",
       "      <td>9.0</td>\n",
       "      <td>returning_customer</td>\n",
       "      <td>11</td>\n",
       "      <td>1</td>\n",
       "      <td>both</td>\n",
       "      <td>Mid-range product</td>\n",
       "      <td>Least busy</td>\n",
       "      <td>Least busy</td>\n",
       "      <td>Average orders</td>\n",
       "    </tr>\n",
       "  </tbody>\n",
       "</table>\n",
       "</div>"
      ],
      "text/plain": [
       "   product_id                product_name  aisle_id  department_id  prices  \\\n",
       "0           1  Chocolate Sandwich Cookies        61             19     5.8   \n",
       "1           1  Chocolate Sandwich Cookies        61             19     5.8   \n",
       "2           1  Chocolate Sandwich Cookies        61             19     5.8   \n",
       "3           1  Chocolate Sandwich Cookies        61             19     5.8   \n",
       "4           1  Chocolate Sandwich Cookies        61             19     5.8   \n",
       "\n",
       "   order_id  user_id  order_number  orders_day_of_week  order_hour_of_day  \\\n",
       "0   3139998      138            28                   6                 11   \n",
       "1   1977647      138            30                   6                 17   \n",
       "2    389851      709             2                   0                 21   \n",
       "3    652770      764             1                   3                 13   \n",
       "4   1813452      764             3                   4                 17   \n",
       "\n",
       "   days_since_last_order       customer_type  add_to_cart_order  reordered  \\\n",
       "0                    3.0  returning_customer                  5          0   \n",
       "1                   20.0  returning_customer                  1          1   \n",
       "2                    6.0  returning_customer                 20          0   \n",
       "3                    NaN        new_customer                 10          0   \n",
       "4                    9.0  returning_customer                 11          1   \n",
       "\n",
       "  _merge    price_range_loc     busiest_day    busiest_days  \\\n",
       "0   both  Mid-range product  Regularly busy  Regularly busy   \n",
       "1   both  Mid-range product  Regularly busy  Regularly busy   \n",
       "2   both  Mid-range product     Busiest day    Busiest days   \n",
       "3   both  Mid-range product  Regularly busy      Least busy   \n",
       "4   both  Mid-range product      Least busy      Least busy   \n",
       "\n",
       "  busiest_period_of_day  \n",
       "0           Most orders  \n",
       "1        Average orders  \n",
       "2        Average orders  \n",
       "3           Most orders  \n",
       "4        Average orders  "
      ]
     },
     "execution_count": 31,
     "metadata": {},
     "output_type": "execute_result"
    }
   ],
   "source": [
    "df.head()"
   ]
  },
  {
   "cell_type": "code",
   "execution_count": 32,
   "id": "a8df5a0e",
   "metadata": {},
   "outputs": [],
   "source": [
    "# deleting an unuseful column \n",
    "df = df.drop(columns = ['_merge'])"
   ]
  },
  {
   "cell_type": "code",
   "execution_count": 33,
   "id": "ba513c95",
   "metadata": {},
   "outputs": [
    {
     "data": {
      "text/plain": [
       "(32404859, 18)"
      ]
     },
     "execution_count": 33,
     "metadata": {},
     "output_type": "execute_result"
    }
   ],
   "source": [
    "#checking if deleting the column was succesful \n",
    "df.shape"
   ]
  },
  {
   "cell_type": "markdown",
   "id": "90ac2ae9",
   "metadata": {},
   "source": [
    "## find the aggregated mean of the “order_number” column grouped by “department_id”"
   ]
  },
  {
   "cell_type": "code",
   "execution_count": 34,
   "id": "60dba44a",
   "metadata": {},
   "outputs": [
    {
     "data": {
      "text/plain": [
       "<pandas.core.groupby.generic.DataFrameGroupBy object at 0x7fe9d850f250>"
      ]
     },
     "execution_count": 34,
     "metadata": {},
     "output_type": "execute_result"
    }
   ],
   "source": [
    "#grouping the department_id \n",
    "df.groupby('department_id')"
   ]
  },
  {
   "cell_type": "code",
   "execution_count": 35,
   "id": "4979684f",
   "metadata": {},
   "outputs": [
    {
     "data": {
      "text/html": [
       "<div>\n",
       "<style scoped>\n",
       "    .dataframe tbody tr th:only-of-type {\n",
       "        vertical-align: middle;\n",
       "    }\n",
       "\n",
       "    .dataframe tbody tr th {\n",
       "        vertical-align: top;\n",
       "    }\n",
       "\n",
       "    .dataframe thead tr th {\n",
       "        text-align: left;\n",
       "    }\n",
       "\n",
       "    .dataframe thead tr:last-of-type th {\n",
       "        text-align: right;\n",
       "    }\n",
       "</style>\n",
       "<table border=\"1\" class=\"dataframe\">\n",
       "  <thead>\n",
       "    <tr>\n",
       "      <th></th>\n",
       "      <th>order_number</th>\n",
       "    </tr>\n",
       "    <tr>\n",
       "      <th></th>\n",
       "      <th>mean</th>\n",
       "    </tr>\n",
       "    <tr>\n",
       "      <th>department_id</th>\n",
       "      <th></th>\n",
       "    </tr>\n",
       "  </thead>\n",
       "  <tbody>\n",
       "    <tr>\n",
       "      <th>1</th>\n",
       "      <td>15.457838</td>\n",
       "    </tr>\n",
       "    <tr>\n",
       "      <th>2</th>\n",
       "      <td>17.277920</td>\n",
       "    </tr>\n",
       "    <tr>\n",
       "      <th>3</th>\n",
       "      <td>17.170395</td>\n",
       "    </tr>\n",
       "    <tr>\n",
       "      <th>4</th>\n",
       "      <td>17.811403</td>\n",
       "    </tr>\n",
       "    <tr>\n",
       "      <th>5</th>\n",
       "      <td>15.215751</td>\n",
       "    </tr>\n",
       "    <tr>\n",
       "      <th>6</th>\n",
       "      <td>16.439806</td>\n",
       "    </tr>\n",
       "    <tr>\n",
       "      <th>7</th>\n",
       "      <td>17.225802</td>\n",
       "    </tr>\n",
       "    <tr>\n",
       "      <th>8</th>\n",
       "      <td>15.340650</td>\n",
       "    </tr>\n",
       "    <tr>\n",
       "      <th>9</th>\n",
       "      <td>15.895474</td>\n",
       "    </tr>\n",
       "    <tr>\n",
       "      <th>10</th>\n",
       "      <td>20.197148</td>\n",
       "    </tr>\n",
       "    <tr>\n",
       "      <th>11</th>\n",
       "      <td>16.170638</td>\n",
       "    </tr>\n",
       "    <tr>\n",
       "      <th>12</th>\n",
       "      <td>15.887671</td>\n",
       "    </tr>\n",
       "    <tr>\n",
       "      <th>13</th>\n",
       "      <td>16.583536</td>\n",
       "    </tr>\n",
       "    <tr>\n",
       "      <th>14</th>\n",
       "      <td>16.773669</td>\n",
       "    </tr>\n",
       "    <tr>\n",
       "      <th>15</th>\n",
       "      <td>16.165037</td>\n",
       "    </tr>\n",
       "    <tr>\n",
       "      <th>16</th>\n",
       "      <td>17.665606</td>\n",
       "    </tr>\n",
       "    <tr>\n",
       "      <th>17</th>\n",
       "      <td>15.694469</td>\n",
       "    </tr>\n",
       "    <tr>\n",
       "      <th>18</th>\n",
       "      <td>19.310397</td>\n",
       "    </tr>\n",
       "    <tr>\n",
       "      <th>19</th>\n",
       "      <td>17.177343</td>\n",
       "    </tr>\n",
       "    <tr>\n",
       "      <th>20</th>\n",
       "      <td>16.473447</td>\n",
       "    </tr>\n",
       "    <tr>\n",
       "      <th>21</th>\n",
       "      <td>22.902379</td>\n",
       "    </tr>\n",
       "  </tbody>\n",
       "</table>\n",
       "</div>"
      ],
      "text/plain": [
       "              order_number\n",
       "                      mean\n",
       "department_id             \n",
       "1                15.457838\n",
       "2                17.277920\n",
       "3                17.170395\n",
       "4                17.811403\n",
       "5                15.215751\n",
       "6                16.439806\n",
       "7                17.225802\n",
       "8                15.340650\n",
       "9                15.895474\n",
       "10               20.197148\n",
       "11               16.170638\n",
       "12               15.887671\n",
       "13               16.583536\n",
       "14               16.773669\n",
       "15               16.165037\n",
       "16               17.665606\n",
       "17               15.694469\n",
       "18               19.310397\n",
       "19               17.177343\n",
       "20               16.473447\n",
       "21               22.902379"
      ]
     },
     "execution_count": 35,
     "metadata": {},
     "output_type": "execute_result"
    }
   ],
   "source": [
    "#performing a single aggregation \n",
    "df.groupby('department_id').agg({'order_number': ['mean']})"
   ]
  },
  {
   "cell_type": "markdown",
   "id": "b279b56b",
   "metadata": {},
   "source": [
    "-> How do the results for the entire dataframe differ from those of the subset?\n",
    "the results dont differ too much from those of the subset. Some rows a nearly similar, some vary by some thousand \n",
    "(for example row 21 has in the subset a 2000 higher value) "
   ]
  },
  {
   "cell_type": "markdown",
   "id": "91fa5115",
   "metadata": {},
   "source": [
    "# Task 4"
   ]
  },
  {
   "cell_type": "markdown",
   "id": "6c1d0804",
   "metadata": {},
   "source": [
    "## creating a loyalty flag for existing customers using the transform() and loc() functions (Task4)"
   ]
  },
  {
   "cell_type": "code",
   "execution_count": 36,
   "id": "899690c4",
   "metadata": {},
   "outputs": [
    {
     "name": "stderr",
     "output_type": "stream",
     "text": [
      "/var/folders/3b/250d_ncn2cb7rf34jj9d3gl40000gq/T/ipykernel_31390/658217433.py:4: FutureWarning: The provided callable <function amax at 0x7fea2a3383a0> is currently using SeriesGroupBy.max. In a future version of pandas, the provided callable will be used directly. To keep current behavior pass the string \"max\" instead.\n",
      "  df['max_order'] = df.groupby(['user_id'])['order_number'].transform(np.max)\n"
     ]
    }
   ],
   "source": [
    "#Split the data into groups based on the “user_id” column.\n",
    "#Apply the transform() function on the “order_number” column to generate the maximum orders for each user.\n",
    "#Create a new column, “max_order,” into which you’ll place the results of your aggregation.\n",
    "df['max_order'] = df.groupby(['user_id'])['order_number'].transform(np.max)\n"
   ]
  },
  {
   "cell_type": "markdown",
   "id": "6ebaad90",
   "metadata": {},
   "source": [
    "#check out the results using the head() function:\n",
    "df.head(15)"
   ]
  },
  {
   "cell_type": "code",
   "execution_count": 37,
   "id": "3ba96c1b",
   "metadata": {},
   "outputs": [
    {
     "name": "stderr",
     "output_type": "stream",
     "text": [
      "/var/folders/3b/250d_ncn2cb7rf34jj9d3gl40000gq/T/ipykernel_31390/1704609517.py:2: FutureWarning: Setting an item of incompatible dtype is deprecated and will raise in a future error of pandas. Value 'Loyal customer' has dtype incompatible with float64, please explicitly cast to a compatible dtype first.\n",
      "  df.loc[df['max_order'] > 40, 'loyalty_flag'] = 'Loyal customer'\n"
     ]
    }
   ],
   "source": [
    "#Deriving Columns with loc()\n",
    "df.loc[df['max_order'] > 40, 'loyalty_flag'] = 'Loyal customer'\n",
    "df.loc[(df['max_order'] <= 40) & (df['max_order'] > 10), 'loyalty_flag'] = 'Regular customer'\n",
    "df.loc[df['max_order'] <= 10, 'loyalty_flag'] = 'New customer'"
   ]
  },
  {
   "cell_type": "code",
   "execution_count": 38,
   "id": "6dc1778f",
   "metadata": {},
   "outputs": [
    {
     "data": {
      "text/plain": [
       "loyalty_flag\n",
       "Regular customer    15876776\n",
       "Loyal customer      10284093\n",
       "New customer         6243990\n",
       "Name: count, dtype: int64"
      ]
     },
     "execution_count": 38,
     "metadata": {},
     "output_type": "execute_result"
    }
   ],
   "source": [
    "#checking the count of the different labels \n",
    "df['loyalty_flag'].value_counts(dropna=False) "
   ]
  },
  {
   "cell_type": "code",
   "execution_count": 39,
   "id": "5b4efa08",
   "metadata": {},
   "outputs": [
    {
     "data": {
      "text/plain": [
       "0     Regular customer\n",
       "1     Regular customer\n",
       "2         New customer\n",
       "3         New customer\n",
       "4         New customer\n",
       "5     Regular customer\n",
       "6         New customer\n",
       "7     Regular customer\n",
       "8     Regular customer\n",
       "9     Regular customer\n",
       "10        New customer\n",
       "11      Loyal customer\n",
       "12      Loyal customer\n",
       "13      Loyal customer\n",
       "14    Regular customer\n",
       "15    Regular customer\n",
       "16    Regular customer\n",
       "17    Regular customer\n",
       "18    Regular customer\n",
       "19    Regular customer\n",
       "Name: loyalty_flag, dtype: object"
      ]
     },
     "execution_count": 39,
     "metadata": {},
     "output_type": "execute_result"
    }
   ],
   "source": [
    "#checking first 20 rows of the loyalty flag colum\n",
    "df['loyalty_flag'].head(20)"
   ]
  },
  {
   "cell_type": "markdown",
   "id": "50b6e8ee",
   "metadata": {},
   "source": [
    "## Task 5 "
   ]
  },
  {
   "cell_type": "markdown",
   "id": "40b8cf52",
   "metadata": {},
   "source": [
    "## checking the basic statistics of the product prices for each loyalty category "
   ]
  },
  {
   "cell_type": "code",
   "execution_count": 40,
   "id": "eb834983",
   "metadata": {},
   "outputs": [],
   "source": [
    "#Use the loyalty flag you created and check the basic statistics of the product prices for each loyalty category \n",
    "#(Loyal Customer, Regular Customer, and New Customer). What you’re trying to determine is whether the prices of \n",
    "#products purchased by loyal customers differ from those purchased by regular or new customers.\n",
    "loyalty_price_stats = df.groupby('loyalty_flag')['prices'].describe()"
   ]
  },
  {
   "cell_type": "code",
   "execution_count": 41,
   "id": "5034e994",
   "metadata": {},
   "outputs": [
    {
     "name": "stdout",
     "output_type": "stream",
     "text": [
      "                       count       mean         std  min  25%  50%   75%  \\\n",
      "loyalty_flag                                                               \n",
      "Loyal customer    10284093.0  10.386336  328.017787  1.0  4.2  7.4  11.2   \n",
      "New customer       6243990.0  13.294670  597.560299  1.0  4.2  7.4  11.3   \n",
      "Regular customer  15876776.0  12.495717  539.720919  1.0  4.2  7.4  11.3   \n",
      "\n",
      "                      max  \n",
      "loyalty_flag               \n",
      "Loyal customer    99999.0  \n",
      "New customer      99999.0  \n",
      "Regular customer  99999.0  \n"
     ]
    }
   ],
   "source": [
    "print(loyalty_price_stats)"
   ]
  },
  {
   "cell_type": "markdown",
   "id": "f3d61775",
   "metadata": {},
   "source": [
    "-> The regular customers spend most money when buying products. New customers though have the highest mean, \n",
    "followed by regular customers and then loyal customers. "
   ]
  },
  {
   "cell_type": "markdown",
   "id": "ccfa30ce",
   "metadata": {},
   "source": [
    "## Task 6 "
   ]
  },
  {
   "cell_type": "markdown",
   "id": "bdf393ff",
   "metadata": {},
   "source": [
    "## Creating a spending flag for each user"
   ]
  },
  {
   "cell_type": "markdown",
   "id": "cbfa9ceb",
   "metadata": {},
   "source": [
    "looking at the prices of the items people are buying. Create a spending flag for each user based on the average \n",
    "price across all their orders using the following criteria:\n",
    "If the mean of the prices of products purchased by a user is lower than 10, then flag them as a “Low spender.”\n",
    "If the mean of the prices of products purchased by a user is higher than or equal to 10, then flag them as a\n",
    "“High spender.”\n"
   ]
  },
  {
   "cell_type": "code",
   "execution_count": 42,
   "id": "f6abda79",
   "metadata": {},
   "outputs": [],
   "source": [
    "# Calculate the mean price of products purchased by each user\n",
    "df['user_mean_price'] = df.groupby('user_id')['prices'].transform('mean')\n"
   ]
  },
  {
   "cell_type": "code",
   "execution_count": null,
   "id": "a493f6d6",
   "metadata": {},
   "outputs": [],
   "source": [
    "df.head(20)"
   ]
  },
  {
   "cell_type": "code",
   "execution_count": 43,
   "id": "f3653218",
   "metadata": {},
   "outputs": [
    {
     "name": "stderr",
     "output_type": "stream",
     "text": [
      "/var/folders/3b/250d_ncn2cb7rf34jj9d3gl40000gq/T/ipykernel_31390/2260650027.py:2: FutureWarning: Setting an item of incompatible dtype is deprecated and will raise in a future error of pandas. Value 'Low spender' has dtype incompatible with float64, please explicitly cast to a compatible dtype first.\n",
      "  df.loc[df['user_mean_price'] < 10, 'spending_type'] = 'Low spender'\n"
     ]
    }
   ],
   "source": [
    "# Create a spending flag column based on mean price criteria using loc\n",
    "df.loc[df['user_mean_price'] < 10, 'spending_type'] = 'Low spender'\n",
    "df.loc[df['user_mean_price'] >= 10, 'spending_type'] = 'High spender'"
   ]
  },
  {
   "cell_type": "code",
   "execution_count": null,
   "id": "3e0e3169",
   "metadata": {},
   "outputs": [],
   "source": [
    "df.head(20)"
   ]
  },
  {
   "cell_type": "markdown",
   "id": "4b7e4f92",
   "metadata": {},
   "source": [
    "# Task 7 "
   ]
  },
  {
   "cell_type": "markdown",
   "id": "ae416201",
   "metadata": {},
   "source": [
    "## determining frequent versus non-frequent customers"
   ]
  },
  {
   "cell_type": "markdown",
   "id": "f7d8eb3b",
   "metadata": {},
   "source": [
    "In order to send relevant notifications to users within the app (for instance, asking users if they want to buy the same item again), the Instacart team wants you to determine frequent versus non-frequent customers. \n",
    "\n",
    "Create an order frequency flag that marks the regularity of a user’s ordering behavior according to the median in the “days_since_prior_order” column. The criteria for the flag should be as follows:\n",
    "\n",
    "If the median of “days_since_prior_order” is higher than 20, then the customer should be labeled a “Non-frequent customer.”\n",
    "If the median is higher than 10 and lower than or equal to 20, then the customer should be labeled a “Regular customer.”\n",
    "If the median is lower than or equal to 10, then the customer should be labeled a “Frequent customer.”"
   ]
  },
  {
   "cell_type": "code",
   "execution_count": 45,
   "id": "0f62d4e2",
   "metadata": {},
   "outputs": [],
   "source": [
    "# Calculate the median order frequency by each user\n",
    "df['order_frequency'] = df.groupby('user_id')['days_since_last_order'].transform('median')"
   ]
  },
  {
   "cell_type": "code",
   "execution_count": 47,
   "id": "27c53828",
   "metadata": {},
   "outputs": [
    {
     "name": "stdout",
     "output_type": "stream",
     "text": [
      "0     8.0\n",
      "1     8.0\n",
      "2     8.0\n",
      "3     9.0\n",
      "4     9.0\n",
      "5    11.0\n",
      "6    20.0\n",
      "7     6.0\n",
      "8    10.0\n",
      "9    10.0\n",
      "Name: order_frequency, dtype: float64\n"
     ]
    }
   ],
   "source": [
    "#checking the result column \n",
    "print(df['order_frequency'].head(10))"
   ]
  },
  {
   "cell_type": "code",
   "execution_count": 50,
   "id": "dedb1ed5",
   "metadata": {},
   "outputs": [
    {
     "name": "stderr",
     "output_type": "stream",
     "text": [
      "/var/folders/3b/250d_ncn2cb7rf34jj9d3gl40000gq/T/ipykernel_31390/3450416809.py:2: FutureWarning: Setting an item of incompatible dtype is deprecated and will raise in a future error of pandas. Value 'Non-frequent customer' has dtype incompatible with float64, please explicitly cast to a compatible dtype first.\n",
      "  df.loc[df['order_frequency'] > 20, 'frequency_flag'] = 'Non-frequent customer'\n"
     ]
    }
   ],
   "source": [
    "# Create a frequency flag column based on order_frequency using loc\n",
    "df.loc[df['order_frequency'] > 20, 'frequency_flag'] = 'Non-frequent customer'\n",
    "df.loc[df['order_frequency'] >10 & (df['order_frequency']<= 20),'frequency_flag'] = 'Regular customer'\n",
    "df.loc[df['order_frequency'] <= 10, 'frequency_flag'] = 'Frequent customer'"
   ]
  },
  {
   "cell_type": "markdown",
   "id": "7ba06b90",
   "metadata": {},
   "source": [
    "## Task 8 "
   ]
  },
  {
   "cell_type": "markdown",
   "id": "e2cdad38",
   "metadata": {},
   "source": [
    "## Exporting the data "
   ]
  },
  {
   "cell_type": "code",
   "execution_count": 55,
   "id": "9368682c",
   "metadata": {},
   "outputs": [],
   "source": [
    "path = '/Users/bente/careerfoundry /exercise 4/Ex.4_25-10-2023 Instacart Basket Analysis'"
   ]
  },
  {
   "cell_type": "code",
   "execution_count": null,
   "id": "074d1739",
   "metadata": {},
   "outputs": [],
   "source": [
    "df.to_pickle(os.path.join(path, '02 Data','Prepared Data', 'ords_prods_merge_4.8.pkl'))"
   ]
  },
  {
   "cell_type": "code",
   "execution_count": null,
   "id": "f3c7297e",
   "metadata": {},
   "outputs": [],
   "source": []
  }
 ],
 "metadata": {
  "kernelspec": {
   "display_name": "Python 3 (ipykernel)",
   "language": "python",
   "name": "python3"
  },
  "language_info": {
   "codemirror_mode": {
    "name": "ipython",
    "version": 3
   },
   "file_extension": ".py",
   "mimetype": "text/x-python",
   "name": "python",
   "nbconvert_exporter": "python",
   "pygments_lexer": "ipython3",
   "version": "3.10.9"
  }
 },
 "nbformat": 4,
 "nbformat_minor": 5
}
