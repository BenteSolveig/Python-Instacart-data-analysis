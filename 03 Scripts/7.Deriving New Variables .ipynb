{
 "cells": [
  {
   "cell_type": "markdown",
   "id": "d482b202",
   "metadata": {},
   "source": [
    "Table of Content\n",
    "1.Importing libraries \n",
    "2.Importing the data \n",
    "3.creating a price_label function \n",
    "4.checking the data \n",
    "5.using Loc Function to create flags (Mid-range product or low-range product)\n",
    "6.Trying the loc function with the whole data set \n",
    "7.finding out on which day most orders are placed\n",
    "8.creating new column : busiest day\n",
    "9.EXERCISE 4.7\n",
    " 9.1 creating new column 'busiest_days' (Task 2)\n",
    " 9.2 Accuracy check (Task 3)\n",
    " 9.3 Creating new colum “busiest_period_of_day\" (Task 4)\n",
    " 9.4 checking the results (Task 5)\n",
    " 9.5 Exporting the data (Task 6)"
   ]
  },
  {
   "cell_type": "markdown",
   "id": "a5cbd6cc",
   "metadata": {},
   "source": [
    "## Importing libraries"
   ]
  },
  {
   "cell_type": "code",
   "execution_count": null,
   "id": "e80bd04c",
   "metadata": {},
   "outputs": [],
   "source": [
    "import pandas as pd\n",
    "import numpy as np\n",
    "import os"
   ]
  },
  {
   "cell_type": "markdown",
   "id": "29c077d9",
   "metadata": {},
   "source": [
    "## Importing the data "
   ]
  },
  {
   "cell_type": "code",
   "execution_count": 2,
   "id": "9e41ceb3",
   "metadata": {},
   "outputs": [],
   "source": [
    "ords_prods_merge=pd.read_pickle(r'/Users/bente/careerfoundry /exercise 4/Ex.4_25-10-2023 Instacart Basket Analysis/02 Data/Prepared Data/orders_products_merged_2.pkl')\n",
    "                               "
   ]
  },
  {
   "cell_type": "code",
   "execution_count": 3,
   "id": "8adea5a7",
   "metadata": {},
   "outputs": [],
   "source": [
    "#creating a subset of the first million rows \n",
    "df = ords_prods_merge[:1000000]"
   ]
  },
  {
   "cell_type": "markdown",
   "id": "b1094953",
   "metadata": {},
   "source": [
    "## creating a price_label function "
   ]
  },
  {
   "cell_type": "code",
   "execution_count": 4,
   "id": "d4ef6736",
   "metadata": {},
   "outputs": [],
   "source": [
    "# defining the function \n",
    "def price_label(row):\n",
    "\n",
    "  if row['prices'] <= 5:\n",
    "    return 'Low-range product'\n",
    "  elif (row['prices'] > 5) and (row['prices'] <= 15):\n",
    "    return 'Mid-range product'\n",
    "  elif row['prices'] > 15:\n",
    "    return 'High range'\n",
    "  else: return 'Not enough data'"
   ]
  },
  {
   "cell_type": "code",
   "execution_count": 5,
   "id": "06b39b3c",
   "metadata": {},
   "outputs": [
    {
     "name": "stderr",
     "output_type": "stream",
     "text": [
      "/var/folders/3b/250d_ncn2cb7rf34jj9d3gl40000gq/T/ipykernel_62595/3381248860.py:2: SettingWithCopyWarning: \n",
      "A value is trying to be set on a copy of a slice from a DataFrame.\n",
      "Try using .loc[row_indexer,col_indexer] = value instead\n",
      "\n",
      "See the caveats in the documentation: https://pandas.pydata.org/pandas-docs/stable/user_guide/indexing.html#returning-a-view-versus-a-copy\n",
      "  df['price_range'] = df.apply(price_label, axis=1)\n"
     ]
    }
   ],
   "source": [
    "#calling the function \n",
    "df['price_range'] = df.apply(price_label, axis=1)"
   ]
  },
  {
   "cell_type": "markdown",
   "id": "546af784",
   "metadata": {},
   "source": [
    "## checking the data "
   ]
  },
  {
   "cell_type": "code",
   "execution_count": 6,
   "id": "20286af1",
   "metadata": {},
   "outputs": [
    {
     "data": {
      "text/html": [
       "<div>\n",
       "<style scoped>\n",
       "    .dataframe tbody tr th:only-of-type {\n",
       "        vertical-align: middle;\n",
       "    }\n",
       "\n",
       "    .dataframe tbody tr th {\n",
       "        vertical-align: top;\n",
       "    }\n",
       "\n",
       "    .dataframe thead th {\n",
       "        text-align: right;\n",
       "    }\n",
       "</style>\n",
       "<table border=\"1\" class=\"dataframe\">\n",
       "  <thead>\n",
       "    <tr style=\"text-align: right;\">\n",
       "      <th></th>\n",
       "      <th>product_id</th>\n",
       "      <th>product_name</th>\n",
       "      <th>aisle_id</th>\n",
       "      <th>department_id</th>\n",
       "      <th>prices</th>\n",
       "      <th>order_id</th>\n",
       "      <th>user_id</th>\n",
       "      <th>order_number</th>\n",
       "      <th>orders_day_of_week</th>\n",
       "      <th>order_hour_of_day</th>\n",
       "      <th>days_since_last_order</th>\n",
       "      <th>customer_type</th>\n",
       "      <th>add_to_cart_order</th>\n",
       "      <th>reordered</th>\n",
       "      <th>_merge</th>\n",
       "      <th>price_range</th>\n",
       "    </tr>\n",
       "  </thead>\n",
       "  <tbody>\n",
       "    <tr>\n",
       "      <th>0</th>\n",
       "      <td>1</td>\n",
       "      <td>Chocolate Sandwich Cookies</td>\n",
       "      <td>61</td>\n",
       "      <td>19</td>\n",
       "      <td>5.8</td>\n",
       "      <td>3139998</td>\n",
       "      <td>138</td>\n",
       "      <td>28</td>\n",
       "      <td>6</td>\n",
       "      <td>11</td>\n",
       "      <td>3.0</td>\n",
       "      <td>returning_customer</td>\n",
       "      <td>5</td>\n",
       "      <td>0</td>\n",
       "      <td>both</td>\n",
       "      <td>Mid-range product</td>\n",
       "    </tr>\n",
       "    <tr>\n",
       "      <th>1</th>\n",
       "      <td>1</td>\n",
       "      <td>Chocolate Sandwich Cookies</td>\n",
       "      <td>61</td>\n",
       "      <td>19</td>\n",
       "      <td>5.8</td>\n",
       "      <td>1977647</td>\n",
       "      <td>138</td>\n",
       "      <td>30</td>\n",
       "      <td>6</td>\n",
       "      <td>17</td>\n",
       "      <td>20.0</td>\n",
       "      <td>returning_customer</td>\n",
       "      <td>1</td>\n",
       "      <td>1</td>\n",
       "      <td>both</td>\n",
       "      <td>Mid-range product</td>\n",
       "    </tr>\n",
       "    <tr>\n",
       "      <th>2</th>\n",
       "      <td>1</td>\n",
       "      <td>Chocolate Sandwich Cookies</td>\n",
       "      <td>61</td>\n",
       "      <td>19</td>\n",
       "      <td>5.8</td>\n",
       "      <td>389851</td>\n",
       "      <td>709</td>\n",
       "      <td>2</td>\n",
       "      <td>0</td>\n",
       "      <td>21</td>\n",
       "      <td>6.0</td>\n",
       "      <td>returning_customer</td>\n",
       "      <td>20</td>\n",
       "      <td>0</td>\n",
       "      <td>both</td>\n",
       "      <td>Mid-range product</td>\n",
       "    </tr>\n",
       "    <tr>\n",
       "      <th>3</th>\n",
       "      <td>1</td>\n",
       "      <td>Chocolate Sandwich Cookies</td>\n",
       "      <td>61</td>\n",
       "      <td>19</td>\n",
       "      <td>5.8</td>\n",
       "      <td>652770</td>\n",
       "      <td>764</td>\n",
       "      <td>1</td>\n",
       "      <td>3</td>\n",
       "      <td>13</td>\n",
       "      <td>NaN</td>\n",
       "      <td>new_customer</td>\n",
       "      <td>10</td>\n",
       "      <td>0</td>\n",
       "      <td>both</td>\n",
       "      <td>Mid-range product</td>\n",
       "    </tr>\n",
       "    <tr>\n",
       "      <th>4</th>\n",
       "      <td>1</td>\n",
       "      <td>Chocolate Sandwich Cookies</td>\n",
       "      <td>61</td>\n",
       "      <td>19</td>\n",
       "      <td>5.8</td>\n",
       "      <td>1813452</td>\n",
       "      <td>764</td>\n",
       "      <td>3</td>\n",
       "      <td>4</td>\n",
       "      <td>17</td>\n",
       "      <td>9.0</td>\n",
       "      <td>returning_customer</td>\n",
       "      <td>11</td>\n",
       "      <td>1</td>\n",
       "      <td>both</td>\n",
       "      <td>Mid-range product</td>\n",
       "    </tr>\n",
       "    <tr>\n",
       "      <th>...</th>\n",
       "      <td>...</td>\n",
       "      <td>...</td>\n",
       "      <td>...</td>\n",
       "      <td>...</td>\n",
       "      <td>...</td>\n",
       "      <td>...</td>\n",
       "      <td>...</td>\n",
       "      <td>...</td>\n",
       "      <td>...</td>\n",
       "      <td>...</td>\n",
       "      <td>...</td>\n",
       "      <td>...</td>\n",
       "      <td>...</td>\n",
       "      <td>...</td>\n",
       "      <td>...</td>\n",
       "      <td>...</td>\n",
       "    </tr>\n",
       "    <tr>\n",
       "      <th>999995</th>\n",
       "      <td>2078</td>\n",
       "      <td>Unsalted Pure Irish Butter</td>\n",
       "      <td>36</td>\n",
       "      <td>16</td>\n",
       "      <td>13.5</td>\n",
       "      <td>2280887</td>\n",
       "      <td>102527</td>\n",
       "      <td>25</td>\n",
       "      <td>6</td>\n",
       "      <td>14</td>\n",
       "      <td>6.0</td>\n",
       "      <td>returning_customer</td>\n",
       "      <td>1</td>\n",
       "      <td>1</td>\n",
       "      <td>both</td>\n",
       "      <td>Mid-range product</td>\n",
       "    </tr>\n",
       "    <tr>\n",
       "      <th>999996</th>\n",
       "      <td>2078</td>\n",
       "      <td>Unsalted Pure Irish Butter</td>\n",
       "      <td>36</td>\n",
       "      <td>16</td>\n",
       "      <td>13.5</td>\n",
       "      <td>3310791</td>\n",
       "      <td>102530</td>\n",
       "      <td>1</td>\n",
       "      <td>4</td>\n",
       "      <td>17</td>\n",
       "      <td>NaN</td>\n",
       "      <td>new_customer</td>\n",
       "      <td>13</td>\n",
       "      <td>0</td>\n",
       "      <td>both</td>\n",
       "      <td>Mid-range product</td>\n",
       "    </tr>\n",
       "    <tr>\n",
       "      <th>999997</th>\n",
       "      <td>2078</td>\n",
       "      <td>Unsalted Pure Irish Butter</td>\n",
       "      <td>36</td>\n",
       "      <td>16</td>\n",
       "      <td>13.5</td>\n",
       "      <td>1704867</td>\n",
       "      <td>102530</td>\n",
       "      <td>2</td>\n",
       "      <td>2</td>\n",
       "      <td>17</td>\n",
       "      <td>30.0</td>\n",
       "      <td>returning_customer</td>\n",
       "      <td>4</td>\n",
       "      <td>1</td>\n",
       "      <td>both</td>\n",
       "      <td>Mid-range product</td>\n",
       "    </tr>\n",
       "    <tr>\n",
       "      <th>999998</th>\n",
       "      <td>2078</td>\n",
       "      <td>Unsalted Pure Irish Butter</td>\n",
       "      <td>36</td>\n",
       "      <td>16</td>\n",
       "      <td>13.5</td>\n",
       "      <td>629818</td>\n",
       "      <td>102530</td>\n",
       "      <td>3</td>\n",
       "      <td>6</td>\n",
       "      <td>18</td>\n",
       "      <td>4.0</td>\n",
       "      <td>returning_customer</td>\n",
       "      <td>3</td>\n",
       "      <td>1</td>\n",
       "      <td>both</td>\n",
       "      <td>Mid-range product</td>\n",
       "    </tr>\n",
       "    <tr>\n",
       "      <th>999999</th>\n",
       "      <td>2078</td>\n",
       "      <td>Unsalted Pure Irish Butter</td>\n",
       "      <td>36</td>\n",
       "      <td>16</td>\n",
       "      <td>13.5</td>\n",
       "      <td>2328893</td>\n",
       "      <td>102544</td>\n",
       "      <td>5</td>\n",
       "      <td>5</td>\n",
       "      <td>9</td>\n",
       "      <td>1.0</td>\n",
       "      <td>returning_customer</td>\n",
       "      <td>1</td>\n",
       "      <td>0</td>\n",
       "      <td>both</td>\n",
       "      <td>Mid-range product</td>\n",
       "    </tr>\n",
       "  </tbody>\n",
       "</table>\n",
       "<p>1000000 rows × 16 columns</p>\n",
       "</div>"
      ],
      "text/plain": [
       "        product_id                product_name  aisle_id  department_id  \\\n",
       "0                1  Chocolate Sandwich Cookies        61             19   \n",
       "1                1  Chocolate Sandwich Cookies        61             19   \n",
       "2                1  Chocolate Sandwich Cookies        61             19   \n",
       "3                1  Chocolate Sandwich Cookies        61             19   \n",
       "4                1  Chocolate Sandwich Cookies        61             19   \n",
       "...            ...                         ...       ...            ...   \n",
       "999995        2078  Unsalted Pure Irish Butter        36             16   \n",
       "999996        2078  Unsalted Pure Irish Butter        36             16   \n",
       "999997        2078  Unsalted Pure Irish Butter        36             16   \n",
       "999998        2078  Unsalted Pure Irish Butter        36             16   \n",
       "999999        2078  Unsalted Pure Irish Butter        36             16   \n",
       "\n",
       "        prices  order_id  user_id  order_number  orders_day_of_week  \\\n",
       "0          5.8   3139998      138            28                   6   \n",
       "1          5.8   1977647      138            30                   6   \n",
       "2          5.8    389851      709             2                   0   \n",
       "3          5.8    652770      764             1                   3   \n",
       "4          5.8   1813452      764             3                   4   \n",
       "...        ...       ...      ...           ...                 ...   \n",
       "999995    13.5   2280887   102527            25                   6   \n",
       "999996    13.5   3310791   102530             1                   4   \n",
       "999997    13.5   1704867   102530             2                   2   \n",
       "999998    13.5    629818   102530             3                   6   \n",
       "999999    13.5   2328893   102544             5                   5   \n",
       "\n",
       "        order_hour_of_day  days_since_last_order       customer_type  \\\n",
       "0                      11                    3.0  returning_customer   \n",
       "1                      17                   20.0  returning_customer   \n",
       "2                      21                    6.0  returning_customer   \n",
       "3                      13                    NaN        new_customer   \n",
       "4                      17                    9.0  returning_customer   \n",
       "...                   ...                    ...                 ...   \n",
       "999995                 14                    6.0  returning_customer   \n",
       "999996                 17                    NaN        new_customer   \n",
       "999997                 17                   30.0  returning_customer   \n",
       "999998                 18                    4.0  returning_customer   \n",
       "999999                  9                    1.0  returning_customer   \n",
       "\n",
       "        add_to_cart_order  reordered _merge        price_range  \n",
       "0                       5          0   both  Mid-range product  \n",
       "1                       1          1   both  Mid-range product  \n",
       "2                      20          0   both  Mid-range product  \n",
       "3                      10          0   both  Mid-range product  \n",
       "4                      11          1   both  Mid-range product  \n",
       "...                   ...        ...    ...                ...  \n",
       "999995                  1          1   both  Mid-range product  \n",
       "999996                 13          0   both  Mid-range product  \n",
       "999997                  4          1   both  Mid-range product  \n",
       "999998                  3          1   both  Mid-range product  \n",
       "999999                  1          0   both  Mid-range product  \n",
       "\n",
       "[1000000 rows x 16 columns]"
      ]
     },
     "execution_count": 6,
     "metadata": {},
     "output_type": "execute_result"
    }
   ],
   "source": [
    "#checking the df\n",
    "df"
   ]
  },
  {
   "cell_type": "code",
   "execution_count": 7,
   "id": "bbccb0d9",
   "metadata": {},
   "outputs": [
    {
     "data": {
      "text/plain": [
       "(1000000, 16)"
      ]
     },
     "execution_count": 7,
     "metadata": {},
     "output_type": "execute_result"
    }
   ],
   "source": [
    "# checking rows and columns \n",
    "df.shape"
   ]
  },
  {
   "cell_type": "code",
   "execution_count": 8,
   "id": "fe6bfce4",
   "metadata": {},
   "outputs": [
    {
     "data": {
      "text/plain": [
       "price_range\n",
       "Mid-range product    652638\n",
       "Low-range product    338018\n",
       "High range             9344\n",
       "Name: count, dtype: int64"
      ]
     },
     "execution_count": 8,
     "metadata": {},
     "output_type": "execute_result"
    }
   ],
   "source": [
    "#counting the values \n",
    "df['price_range'].value_counts(dropna = False)"
   ]
  },
  {
   "cell_type": "code",
   "execution_count": 9,
   "id": "46e7f40a",
   "metadata": {},
   "outputs": [
    {
     "data": {
      "text/plain": [
       "24.5"
      ]
     },
     "execution_count": 9,
     "metadata": {},
     "output_type": "execute_result"
    }
   ],
   "source": [
    "#checking whats the most expensive prdouct of the subset \n",
    "df['prices'].max()"
   ]
  },
  {
   "cell_type": "markdown",
   "id": "172b90cd",
   "metadata": {},
   "source": [
    "# using Loc Function to create flags (Mid-range product or low-range product)"
   ]
  },
  {
   "cell_type": "code",
   "execution_count": 10,
   "id": "402002ce",
   "metadata": {},
   "outputs": [
    {
     "name": "stderr",
     "output_type": "stream",
     "text": [
      "/var/folders/3b/250d_ncn2cb7rf34jj9d3gl40000gq/T/ipykernel_62595/3354430968.py:2: SettingWithCopyWarning: \n",
      "A value is trying to be set on a copy of a slice from a DataFrame.\n",
      "Try using .loc[row_indexer,col_indexer] = value instead\n",
      "\n",
      "See the caveats in the documentation: https://pandas.pydata.org/pandas-docs/stable/user_guide/indexing.html#returning-a-view-versus-a-copy\n",
      "  df.loc[df['prices'] > 15, 'price_range_loc'] = 'High-range product'\n",
      "/var/folders/3b/250d_ncn2cb7rf34jj9d3gl40000gq/T/ipykernel_62595/3354430968.py:2: FutureWarning: Setting an item of incompatible dtype is deprecated and will raise in a future error of pandas. Value 'High-range product' has dtype incompatible with float64, please explicitly cast to a compatible dtype first.\n",
      "  df.loc[df['prices'] > 15, 'price_range_loc'] = 'High-range product'\n"
     ]
    }
   ],
   "source": [
    "#creating some conditions \n",
    "df.loc[df['prices'] > 15, 'price_range_loc'] = 'High-range product'"
   ]
  },
  {
   "cell_type": "code",
   "execution_count": 11,
   "id": "f5baec66",
   "metadata": {},
   "outputs": [],
   "source": [
    "df.loc[(df['prices'] <= 15) & (df['prices'] > 5), 'price_range_loc'] = 'Mid-range product' "
   ]
  },
  {
   "cell_type": "code",
   "execution_count": null,
   "id": "4697cb5b",
   "metadata": {},
   "outputs": [],
   "source": [
    "df.loc[df['prices'] <= 5, 'price_range_loc'] = 'Low-range product'"
   ]
  },
  {
   "cell_type": "code",
   "execution_count": 12,
   "id": "c6fd5bdb",
   "metadata": {},
   "outputs": [
    {
     "data": {
      "text/plain": [
       "price_range_loc\n",
       "Mid-range product     652638\n",
       "NaN                   338018\n",
       "High-range product      9344\n",
       "Name: count, dtype: int64"
      ]
     },
     "execution_count": 12,
     "metadata": {},
     "output_type": "execute_result"
    }
   ],
   "source": [
    "#counting the values \n",
    "df['price_range_loc'].value_counts(dropna = False)"
   ]
  },
  {
   "cell_type": "code",
   "execution_count": 13,
   "id": "84128b1b",
   "metadata": {},
   "outputs": [
    {
     "data": {
      "text/plain": [
       "price_range_loc\n",
       "Mid-range product     652638\n",
       "NaN                   338018\n",
       "High-range product      9344\n",
       "Name: count, dtype: int64"
      ]
     },
     "execution_count": 13,
     "metadata": {},
     "output_type": "execute_result"
    }
   ],
   "source": [
    "#counting the values \n",
    "df['price_range_loc'].value_counts(dropna = False)\n"
   ]
  },
  {
   "cell_type": "markdown",
   "id": "73f152d5",
   "metadata": {},
   "source": [
    "## Trying the loc function with the whole data set "
   ]
  },
  {
   "cell_type": "code",
   "execution_count": 15,
   "id": "c2e1fda5",
   "metadata": {},
   "outputs": [
    {
     "name": "stderr",
     "output_type": "stream",
     "text": [
      "/var/folders/3b/250d_ncn2cb7rf34jj9d3gl40000gq/T/ipykernel_62595/2390437552.py:1: FutureWarning: Setting an item of incompatible dtype is deprecated and will raise in a future error of pandas. Value 'High-range product' has dtype incompatible with float64, please explicitly cast to a compatible dtype first.\n",
      "  ords_prods_merge.loc[ords_prods_merge['prices'] > 15, 'price_range_loc'] = 'High-range product'\n"
     ]
    }
   ],
   "source": [
    "ords_prods_merge.loc[ords_prods_merge['prices'] > 15, 'price_range_loc'] = 'High-range product'\n"
   ]
  },
  {
   "cell_type": "code",
   "execution_count": 17,
   "id": "c23e6e9c",
   "metadata": {},
   "outputs": [],
   "source": [
    "ords_prods_merge.loc[(ords_prods_merge['prices'] <= 15) & (df['prices'] > 5), 'price_range_loc'] = 'Mid-range product' "
   ]
  },
  {
   "cell_type": "code",
   "execution_count": 18,
   "id": "2bebb67f",
   "metadata": {},
   "outputs": [],
   "source": [
    "ords_prods_merge.loc[ords_prods_merge['prices'] <= 5, 'price_range_loc'] = 'Low-range product'"
   ]
  },
  {
   "cell_type": "code",
   "execution_count": 19,
   "id": "127b6604",
   "metadata": {},
   "outputs": [
    {
     "data": {
      "text/plain": [
       "price_range_loc\n",
       "NaN                   21208222\n",
       "Low-range product     10126321\n",
       "Mid-range product       652638\n",
       "High-range product      417678\n",
       "Name: count, dtype: int64"
      ]
     },
     "execution_count": 19,
     "metadata": {},
     "output_type": "execute_result"
    }
   ],
   "source": [
    "#counting the values \n",
    "ords_prods_merge['price_range_loc'].value_counts(dropna = False)\n"
   ]
  },
  {
   "cell_type": "markdown",
   "id": "4e7cf59c",
   "metadata": {},
   "source": [
    "## finding out on which day most orders are placed"
   ]
  },
  {
   "cell_type": "code",
   "execution_count": 20,
   "id": "831a8982",
   "metadata": {},
   "outputs": [
    {
     "data": {
      "text/plain": [
       "orders_day_of_week\n",
       "0    6204182\n",
       "1    5660230\n",
       "6    4496490\n",
       "2    4213830\n",
       "5    4205791\n",
       "3    3840534\n",
       "4    3783802\n",
       "Name: count, dtype: int64"
      ]
     },
     "execution_count": 20,
     "metadata": {},
     "output_type": "execute_result"
    }
   ],
   "source": [
    "#which day do most orders take place? finding this out by printing the frequency of the “orders_day_of_week” column\n",
    "ords_prods_merge['orders_day_of_week'].value_counts(dropna=False)"
   ]
  },
  {
   "cell_type": "markdown",
   "id": "4f44a2ce",
   "metadata": {},
   "source": [
    "## creating new column : busiest day"
   ]
  },
  {
   "cell_type": "code",
   "execution_count": 21,
   "id": "20867b27",
   "metadata": {},
   "outputs": [],
   "source": [
    "#use this information to create a new column, “busiest day,” that will contain one of three different values: \n",
    "#“Busiest day,” “Least busy,” and “Regularly busy.”\n",
    "\n",
    "result = []\n",
    "\n",
    "for value in ords_prods_merge[\"orders_day_of_week\"]:\n",
    "  if value == 0:\n",
    "    result.append(\"Busiest day\")\n",
    "  elif value == 4:\n",
    "    result.append(\"Least busy\")\n",
    "  else:\n",
    "    result.append(\"Regularly busy\")"
   ]
  },
  {
   "cell_type": "code",
   "execution_count": 22,
   "id": "7351457e",
   "metadata": {},
   "outputs": [
    {
     "data": {
      "text/plain": [
       "['Regularly busy',\n",
       " 'Regularly busy',\n",
       " 'Busiest day',\n",
       " 'Regularly busy',\n",
       " 'Least busy',\n",
       " 'Regularly busy',\n",
       " 'Regularly busy',\n",
       " 'Regularly busy',\n",
       " 'Regularly busy',\n",
       " 'Regularly busy',\n",
       " 'Regularly busy',\n",
       " 'Regularly busy',\n",
       " 'Least busy',\n",
       " 'Regularly busy',\n",
       " 'Regularly busy',\n",
       " 'Regularly busy',\n",
       " 'Regularly busy',\n",
       " 'Regularly busy',\n",
       " 'Regularly busy',\n",
       " 'Regularly busy']"
      ]
     },
     "execution_count": 22,
     "metadata": {},
     "output_type": "execute_result"
    }
   ],
   "source": [
    "#checking the first 20 rows \n",
    "result[:20]"
   ]
  },
  {
   "cell_type": "code",
   "execution_count": 23,
   "id": "02b633a2",
   "metadata": {},
   "outputs": [],
   "source": [
    "#combining results with ords_prods_merge dataframe.\n",
    "#creating a summary column for the busiest day of the week\n",
    "\n",
    "ords_prods_merge['busiest_day']= result "
   ]
  },
  {
   "cell_type": "code",
   "execution_count": 24,
   "id": "7ac2c7fc",
   "metadata": {},
   "outputs": [
    {
     "data": {
      "text/plain": [
       "busiest_day\n",
       "Regularly busy    22416875\n",
       "Busiest day        6204182\n",
       "Least busy         3783802\n",
       "Name: count, dtype: int64"
      ]
     },
     "execution_count": 24,
     "metadata": {},
     "output_type": "execute_result"
    }
   ],
   "source": [
    "#printing the frequency of this new column and cross-checking it with the frequency of “orders_day_of_week” \n",
    "ords_prods_merge['busiest_day'].value_counts(dropna=False)"
   ]
  },
  {
   "cell_type": "markdown",
   "id": "1312aecb",
   "metadata": {},
   "source": [
    "# EXERCISE 4.7 "
   ]
  },
  {
   "cell_type": "markdown",
   "id": "4689f3dd",
   "metadata": {},
   "source": [
    "## creating new column 'busiest_days' (Task 2)"
   ]
  },
  {
   "cell_type": "markdown",
   "id": "7add214f",
   "metadata": {},
   "source": [
    "Suppose your clients have changed their minds about the labels you created in your “busiest_day” column. \n",
    "Now, they want “Busiest day” to become “Busiest days” (plural). This label should correspond with the two \n",
    "busiest days of the week as opposed to the single busiest day. At the same time, they’d also like to know \n",
    "the two slowest days. Create a new column for this using a suitable method."
   ]
  },
  {
   "cell_type": "code",
   "execution_count": 25,
   "id": "997203a4",
   "metadata": {},
   "outputs": [],
   "source": [
    "#creating a new loop to label the busiest and least busiest days. saving the results in an empty list\n",
    "new_result = []\n",
    "\n",
    "for value in ords_prods_merge[\"orders_day_of_week\"]:\n",
    "    if value == 0 or value == 1:\n",
    "        new_result.append(\"Busiest days\")\n",
    "    elif value == 4 or value == 3:\n",
    "        new_result.append(\"Least busy\")\n",
    "    else:\n",
    "        new_result.append(\"Regularly busy\")"
   ]
  },
  {
   "cell_type": "code",
   "execution_count": 26,
   "id": "9939270b",
   "metadata": {},
   "outputs": [],
   "source": [
    "#adding the values to the new created column\n",
    "ords_prods_merge['busiest_days']= new_result "
   ]
  },
  {
   "cell_type": "code",
   "execution_count": 27,
   "id": "c7380234",
   "metadata": {},
   "outputs": [
    {
     "data": {
      "text/plain": [
       "busiest_days\n",
       "Regularly busy    12916111\n",
       "Busiest days      11864412\n",
       "Least busy         7624336\n",
       "Name: count, dtype: int64"
      ]
     },
     "execution_count": 27,
     "metadata": {},
     "output_type": "execute_result"
    }
   ],
   "source": [
    "#printing the frequency of this new column and cross-checking it with the frequency of “orders_day_of_week” \n",
    "ords_prods_merge['busiest_days'].value_counts(dropna=False)"
   ]
  },
  {
   "cell_type": "markdown",
   "id": "0c754178",
   "metadata": {},
   "source": [
    "## Accuracy check (Task 3)"
   ]
  },
  {
   "cell_type": "code",
   "execution_count": 29,
   "id": "e9c8c17e",
   "metadata": {},
   "outputs": [
    {
     "data": {
      "text/plain": [
       "32404859"
      ]
     },
     "execution_count": 29,
     "metadata": {},
     "output_type": "execute_result"
    }
   ],
   "source": [
    "#Check the values of this new column for accuracy. \n",
    "#adding the values from the new_result:\n",
    "12916111+ 11864412+7624336"
   ]
  },
  {
   "cell_type": "code",
   "execution_count": 30,
   "id": "cdb1bae3",
   "metadata": {},
   "outputs": [
    {
     "data": {
      "text/plain": [
       "32404859"
      ]
     },
     "execution_count": 30,
     "metadata": {},
     "output_type": "execute_result"
    }
   ],
   "source": [
    "#adding values from old result: \n",
    "22416875+ 6204182+ 3783802"
   ]
  },
  {
   "cell_type": "markdown",
   "id": "967d91f5",
   "metadata": {},
   "source": [
    "## Creating new colum “busiest_period_of_day\" (Task 4)"
   ]
  },
  {
   "cell_type": "markdown",
   "id": "752f520c",
   "metadata": {},
   "source": [
    "When too many users make Instacart orders at the same time, the app freezes. \n",
    "The senior technical officer at Instacart wants you to identify the busiest hours of the day. \n",
    "Rather than by hour, they want periods of time labeled “Most orders,” “Average orders,” and “Fewest orders.” \n",
    "Create a new column containing these labels called “busiest_period_of_day.”"
   ]
  },
  {
   "cell_type": "code",
   "execution_count": 34,
   "id": "c6161a38",
   "metadata": {},
   "outputs": [
    {
     "data": {
      "text/plain": [
       "order_hour_of_day\n",
       "10    2761760\n",
       "11    2736140\n",
       "14    2689136\n",
       "15    2662144\n",
       "13    2660954\n",
       "12    2618532\n",
       "16    2535202\n",
       "9     2454203\n",
       "17    2087654\n",
       "8     1718118\n",
       "18    1636502\n",
       "19    1258305\n",
       "20     976156\n",
       "7      891054\n",
       "21     795637\n",
       "22     634225\n",
       "23     402316\n",
       "6      290493\n",
       "0      218769\n",
       "1      115700\n",
       "5       87961\n",
       "2       69375\n",
       "4       53242\n",
       "3       51281\n",
       "Name: count, dtype: int64"
      ]
     },
     "execution_count": 34,
     "metadata": {},
     "output_type": "execute_result"
    }
   ],
   "source": [
    "#checking the frequency of the orders by hour of the day \n",
    "ords_prods_merge['order_hour_of_day'].value_counts(dropna=False)"
   ]
  },
  {
   "cell_type": "markdown",
   "id": "a007e62d",
   "metadata": {},
   "source": [
    "-> there are 24 hours. dividing it through 8, there are 3 periods. first 8 entries are “Most orders\", the next 8 \n",
    "“Average orders” and the rest \"Fewest Orders\". "
   ]
  },
  {
   "cell_type": "markdown",
   "id": "f90b90de",
   "metadata": {},
   "source": [
    "One approach : \n",
    "    \n",
    "order_frequency = []\n",
    "\n",
    "for value in ords_prods_merge[\"order_hour_of_day\"]:\n",
    "    if value == 10 or value == 11 or value == 14 or value == 15 or value ==13 or value == 12 or value ==  16 or value == 9:\n",
    "        order_frequency.append(\"Most orders\")\n",
    "    elif value == 17 or value == 8 or value == 18 or value == 19 or value == 20 or value == 7 or value == 21 or value == 22:\n",
    "        order_frequency.append(\"Average orders\")\n",
    "    else:\n",
    "        order_frequency.append(\"Fewest orders\")\n",
    "        \n",
    "-> this code works BUT when the underlying data changes, the results will not be valid anymore. \n",
    "Therefore I try another aproach, which creates out of the output from \"ords_prods_merge['order_hour_of_day'].value_counts(dropna=False)\"\n",
    "a list which is saved in th variable called \"hours_by_orders\". This way the code will be useful even if the sales \n",
    " will change, because its based on the indexes. "
   ]
  },
  {
   "cell_type": "code",
   "execution_count": null,
   "id": "ec2ae1aa",
   "metadata": {},
   "outputs": [],
   "source": [
    "#I want the values from the left side(hours) from the output from following function : ords_prods_merge['order_hour_of_day'].value_counts(dropna=False)\n",
    "#as an list. Save it in the variable hours_by_orders\n",
    "hours_by_orders=ords_prods_merge['order_hour_of_day'].value_counts(dropna=False).index.to_list()"
   ]
  },
  {
   "cell_type": "code",
   "execution_count": 62,
   "id": "72f1f939",
   "metadata": {},
   "outputs": [],
   "source": [
    "#I take the first 8 values from the list and save it in an variable \n",
    "Most_ordered_hours=hours_by_orders[0:8]"
   ]
  },
  {
   "cell_type": "code",
   "execution_count": 59,
   "id": "68ff04fe",
   "metadata": {},
   "outputs": [],
   "source": [
    "#I take the middle 8 values from the list and save it in an variable \n",
    "Avg_ordered_hours=hours_by_orders[8:16]"
   ]
  },
  {
   "cell_type": "code",
   "execution_count": 60,
   "id": "2f663078",
   "metadata": {},
   "outputs": [],
   "source": [
    "#I take the last 8 values from the list and save it in an variable \n",
    "fewest_ordered_hours=hours_by_orders[16:24]"
   ]
  },
  {
   "cell_type": "code",
   "execution_count": 63,
   "id": "ac752de5",
   "metadata": {},
   "outputs": [],
   "source": [
    "#now i change the code so that it would work even if the unerlying order data would change\n",
    "\n",
    "order_frequency = []\n",
    "\n",
    "for value in ords_prods_merge[\"order_hour_of_day\"]:\n",
    "    if value in Most_ordered_hours:\n",
    "        order_frequency.append(\"Most orders\")\n",
    "    elif value in Avg_ordered_hours:\n",
    "        order_frequency.append(\"Average orders\")\n",
    "    else:\n",
    "        order_frequency.append(\"Fewest orders\")"
   ]
  },
  {
   "cell_type": "code",
   "execution_count": 36,
   "id": "9cf0f17c",
   "metadata": {},
   "outputs": [],
   "source": [
    "#Create a new column containing these labels called “busiest_period_of_day.”\n",
    "ords_prods_merge['busiest_period_of_day']= order_frequency"
   ]
  },
  {
   "cell_type": "code",
   "execution_count": 68,
   "id": "9e247e1f",
   "metadata": {},
   "outputs": [
    {
     "data": {
      "text/html": [
       "<div>\n",
       "<style scoped>\n",
       "    .dataframe tbody tr th:only-of-type {\n",
       "        vertical-align: middle;\n",
       "    }\n",
       "\n",
       "    .dataframe tbody tr th {\n",
       "        vertical-align: top;\n",
       "    }\n",
       "\n",
       "    .dataframe thead th {\n",
       "        text-align: right;\n",
       "    }\n",
       "</style>\n",
       "<table border=\"1\" class=\"dataframe\">\n",
       "  <thead>\n",
       "    <tr style=\"text-align: right;\">\n",
       "      <th></th>\n",
       "      <th>product_id</th>\n",
       "      <th>product_name</th>\n",
       "      <th>aisle_id</th>\n",
       "      <th>department_id</th>\n",
       "      <th>prices</th>\n",
       "      <th>order_id</th>\n",
       "      <th>user_id</th>\n",
       "      <th>order_number</th>\n",
       "      <th>orders_day_of_week</th>\n",
       "      <th>order_hour_of_day</th>\n",
       "      <th>days_since_last_order</th>\n",
       "      <th>customer_type</th>\n",
       "      <th>add_to_cart_order</th>\n",
       "      <th>reordered</th>\n",
       "      <th>_merge</th>\n",
       "      <th>price_range_loc</th>\n",
       "      <th>busiest_day</th>\n",
       "      <th>busiest_days</th>\n",
       "      <th>busiest_period_of_day</th>\n",
       "    </tr>\n",
       "  </thead>\n",
       "  <tbody>\n",
       "    <tr>\n",
       "      <th>0</th>\n",
       "      <td>1</td>\n",
       "      <td>Chocolate Sandwich Cookies</td>\n",
       "      <td>61</td>\n",
       "      <td>19</td>\n",
       "      <td>5.8</td>\n",
       "      <td>3139998</td>\n",
       "      <td>138</td>\n",
       "      <td>28</td>\n",
       "      <td>6</td>\n",
       "      <td>11</td>\n",
       "      <td>3.0</td>\n",
       "      <td>returning_customer</td>\n",
       "      <td>5</td>\n",
       "      <td>0</td>\n",
       "      <td>both</td>\n",
       "      <td>Mid-range product</td>\n",
       "      <td>Regularly busy</td>\n",
       "      <td>Regularly busy</td>\n",
       "      <td>Most orders</td>\n",
       "    </tr>\n",
       "    <tr>\n",
       "      <th>1</th>\n",
       "      <td>1</td>\n",
       "      <td>Chocolate Sandwich Cookies</td>\n",
       "      <td>61</td>\n",
       "      <td>19</td>\n",
       "      <td>5.8</td>\n",
       "      <td>1977647</td>\n",
       "      <td>138</td>\n",
       "      <td>30</td>\n",
       "      <td>6</td>\n",
       "      <td>17</td>\n",
       "      <td>20.0</td>\n",
       "      <td>returning_customer</td>\n",
       "      <td>1</td>\n",
       "      <td>1</td>\n",
       "      <td>both</td>\n",
       "      <td>Mid-range product</td>\n",
       "      <td>Regularly busy</td>\n",
       "      <td>Regularly busy</td>\n",
       "      <td>Average orders</td>\n",
       "    </tr>\n",
       "    <tr>\n",
       "      <th>2</th>\n",
       "      <td>1</td>\n",
       "      <td>Chocolate Sandwich Cookies</td>\n",
       "      <td>61</td>\n",
       "      <td>19</td>\n",
       "      <td>5.8</td>\n",
       "      <td>389851</td>\n",
       "      <td>709</td>\n",
       "      <td>2</td>\n",
       "      <td>0</td>\n",
       "      <td>21</td>\n",
       "      <td>6.0</td>\n",
       "      <td>returning_customer</td>\n",
       "      <td>20</td>\n",
       "      <td>0</td>\n",
       "      <td>both</td>\n",
       "      <td>Mid-range product</td>\n",
       "      <td>Busiest day</td>\n",
       "      <td>Busiest days</td>\n",
       "      <td>Average orders</td>\n",
       "    </tr>\n",
       "    <tr>\n",
       "      <th>3</th>\n",
       "      <td>1</td>\n",
       "      <td>Chocolate Sandwich Cookies</td>\n",
       "      <td>61</td>\n",
       "      <td>19</td>\n",
       "      <td>5.8</td>\n",
       "      <td>652770</td>\n",
       "      <td>764</td>\n",
       "      <td>1</td>\n",
       "      <td>3</td>\n",
       "      <td>13</td>\n",
       "      <td>NaN</td>\n",
       "      <td>new_customer</td>\n",
       "      <td>10</td>\n",
       "      <td>0</td>\n",
       "      <td>both</td>\n",
       "      <td>Mid-range product</td>\n",
       "      <td>Regularly busy</td>\n",
       "      <td>Least busy</td>\n",
       "      <td>Most orders</td>\n",
       "    </tr>\n",
       "    <tr>\n",
       "      <th>4</th>\n",
       "      <td>1</td>\n",
       "      <td>Chocolate Sandwich Cookies</td>\n",
       "      <td>61</td>\n",
       "      <td>19</td>\n",
       "      <td>5.8</td>\n",
       "      <td>1813452</td>\n",
       "      <td>764</td>\n",
       "      <td>3</td>\n",
       "      <td>4</td>\n",
       "      <td>17</td>\n",
       "      <td>9.0</td>\n",
       "      <td>returning_customer</td>\n",
       "      <td>11</td>\n",
       "      <td>1</td>\n",
       "      <td>both</td>\n",
       "      <td>Mid-range product</td>\n",
       "      <td>Least busy</td>\n",
       "      <td>Least busy</td>\n",
       "      <td>Average orders</td>\n",
       "    </tr>\n",
       "  </tbody>\n",
       "</table>\n",
       "</div>"
      ],
      "text/plain": [
       "   product_id                product_name  aisle_id  department_id  prices  \\\n",
       "0           1  Chocolate Sandwich Cookies        61             19     5.8   \n",
       "1           1  Chocolate Sandwich Cookies        61             19     5.8   \n",
       "2           1  Chocolate Sandwich Cookies        61             19     5.8   \n",
       "3           1  Chocolate Sandwich Cookies        61             19     5.8   \n",
       "4           1  Chocolate Sandwich Cookies        61             19     5.8   \n",
       "\n",
       "   order_id  user_id  order_number  orders_day_of_week  order_hour_of_day  \\\n",
       "0   3139998      138            28                   6                 11   \n",
       "1   1977647      138            30                   6                 17   \n",
       "2    389851      709             2                   0                 21   \n",
       "3    652770      764             1                   3                 13   \n",
       "4   1813452      764             3                   4                 17   \n",
       "\n",
       "   days_since_last_order       customer_type  add_to_cart_order  reordered  \\\n",
       "0                    3.0  returning_customer                  5          0   \n",
       "1                   20.0  returning_customer                  1          1   \n",
       "2                    6.0  returning_customer                 20          0   \n",
       "3                    NaN        new_customer                 10          0   \n",
       "4                    9.0  returning_customer                 11          1   \n",
       "\n",
       "  _merge    price_range_loc     busiest_day    busiest_days  \\\n",
       "0   both  Mid-range product  Regularly busy  Regularly busy   \n",
       "1   both  Mid-range product  Regularly busy  Regularly busy   \n",
       "2   both  Mid-range product     Busiest day    Busiest days   \n",
       "3   both  Mid-range product  Regularly busy      Least busy   \n",
       "4   both  Mid-range product      Least busy      Least busy   \n",
       "\n",
       "  busiest_period_of_day  \n",
       "0           Most orders  \n",
       "1        Average orders  \n",
       "2        Average orders  \n",
       "3           Most orders  \n",
       "4        Average orders  "
      ]
     },
     "execution_count": 68,
     "metadata": {},
     "output_type": "execute_result"
    }
   ],
   "source": [
    "#checking the table with the new column and its entries \n",
    "ords_prods_merge.head()"
   ]
  },
  {
   "cell_type": "markdown",
   "id": "46a85c10",
   "metadata": {},
   "source": [
    "## checking the results (Task 5)"
   ]
  },
  {
   "cell_type": "code",
   "execution_count": 66,
   "id": "10505918",
   "metadata": {},
   "outputs": [
    {
     "data": {
      "text/plain": [
       "busiest_period_of_day\n",
       "Most orders       21118071\n",
       "Average orders     9997651\n",
       "Fewest orders      1289137\n",
       "Name: count, dtype: int64"
      ]
     },
     "execution_count": 66,
     "metadata": {},
     "output_type": "execute_result"
    }
   ],
   "source": [
    "ords_prods_merge['busiest_period_of_day'].value_counts(dropna=False)"
   ]
  },
  {
   "cell_type": "code",
   "execution_count": 67,
   "id": "5ab928ad",
   "metadata": {},
   "outputs": [
    {
     "data": {
      "text/plain": [
       "32404859"
      ]
     },
     "execution_count": 67,
     "metadata": {},
     "output_type": "execute_result"
    }
   ],
   "source": [
    "#checking the sum of the values\n",
    "21118071+  9997651+  1289137"
   ]
  },
  {
   "cell_type": "markdown",
   "id": "cd9a4d3c",
   "metadata": {},
   "source": [
    "## Exporting the data (Task 6)\n"
   ]
  },
  {
   "cell_type": "code",
   "execution_count": 70,
   "id": "f7a027da",
   "metadata": {},
   "outputs": [],
   "source": [
    "path = '/Users/bente/careerfoundry /exercise 4/Ex.4_25-10-2023 Instacart Basket Analysis'"
   ]
  },
  {
   "cell_type": "code",
   "execution_count": 71,
   "id": "f9e7a457",
   "metadata": {},
   "outputs": [],
   "source": [
    "ords_prods_merge.to_pickle(os.path.join(path, '02 Data','Prepared Data', 'ords_prods_merge.pkl'))"
   ]
  },
  {
   "cell_type": "code",
   "execution_count": null,
   "id": "ab02f549",
   "metadata": {},
   "outputs": [],
   "source": []
  }
 ],
 "metadata": {
  "kernelspec": {
   "display_name": "Python 3 (ipykernel)",
   "language": "python",
   "name": "python3"
  },
  "language_info": {
   "codemirror_mode": {
    "name": "ipython",
    "version": 3
   },
   "file_extension": ".py",
   "mimetype": "text/x-python",
   "name": "python",
   "nbconvert_exporter": "python",
   "pygments_lexer": "ipython3",
   "version": "3.10.9"
  }
 },
 "nbformat": 4,
 "nbformat_minor": 5
}
