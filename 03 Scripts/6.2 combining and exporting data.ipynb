{
 "cells": [
  {
   "cell_type": "code",
   "execution_count": null,
   "id": "aad38362",
   "metadata": {},
   "outputs": [],
   "source": [
    "Table of Content \n",
    "1.importing libraries\n",
    "2.importing data \n",
    "3.checking the shape of the two data sets\n",
    "4.thinking of suitable way to combine the two data sets (Task 5)\n",
    "5.full match check \n",
    "6.Exporting Data in PKL format"
   ]
  },
  {
   "cell_type": "code",
   "execution_count": null,
   "id": "021a7039",
   "metadata": {},
   "outputs": [],
   "source": [
    "# importing libraries\n",
    "import pandas as pd\n",
    "import numpy as np\n",
    "import os"
   ]
  },
  {
   "cell_type": "markdown",
   "id": "a8199d19",
   "metadata": {},
   "source": [
    "## importing data"
   ]
  },
  {
   "cell_type": "code",
   "execution_count": null,
   "id": "4d2bd87b",
   "metadata": {},
   "outputs": [],
   "source": [
    "df_ords_prods_merged =pd.read_pickle(r'/Users/bente/careerfoundry /exercise 4/Ex.4_25-10-2023 Instacart Basket Analysis/02 Data/Prepared Data/orders_products_combined.pkl')\n",
    "df_prods=pd.read_csv(r'/Users/bente/careerfoundry /exercise 4/Ex.4_25-10-2023 Instacart Basket Analysis/02 Data/Prepared Data/products_checked.csv', index_col = False)"
   ]
  },
  {
   "cell_type": "markdown",
   "id": "5422fa73",
   "metadata": {},
   "source": [
    "## checking the shape of the two data sets"
   ]
  },
  {
   "cell_type": "code",
   "execution_count": null,
   "id": "d36e91c7",
   "metadata": {},
   "outputs": [],
   "source": [
    "df_ords_prods_merged.shape"
   ]
  },
  {
   "cell_type": "code",
   "execution_count": null,
   "id": "2507cecf",
   "metadata": {},
   "outputs": [],
   "source": [
    "df_prods.shape "
   ]
  },
  {
   "cell_type": "code",
   "execution_count": null,
   "id": "9cbf9edc",
   "metadata": {},
   "outputs": [],
   "source": [
    "df_prods.head()"
   ]
  },
  {
   "cell_type": "code",
   "execution_count": null,
   "id": "9c7494b4",
   "metadata": {},
   "outputs": [],
   "source": [
    "df_ords_prods_merged.head()"
   ]
  },
  {
   "cell_type": "markdown",
   "id": "b7dc7867",
   "metadata": {},
   "source": [
    "## thinking of suitable way to combine the two data sets (Task 5)"
   ]
  },
  {
   "cell_type": "markdown",
   "id": "7d461248",
   "metadata": {},
   "source": [
    "1) If there are common columns between the DataFrames that can be used as keys to merge the data, I might use techniques like inner join, outer join, left join, or right join, depending on the output I want ->merged_df = pd.merge(df_a, df_b, on='common_column', how='inner')\n",
    "\n",
    "2) If the DataFrames have no common columns but have the same structure (same columns) and I want to stack them vertically, I would concatenate them using pd.concat()\n",
    "\n"
   ]
  },
  {
   "cell_type": "code",
   "execution_count": null,
   "id": "14bc50a7",
   "metadata": {},
   "outputs": [],
   "source": [
    "#Before merging the columns I will drop some unuseful columns from the data frame in order to save time \n",
    "#and reduce the costs of the merging command. Plus it will give a clearer overview about the data.\n",
    "\n",
    "df_prods = df_prods.drop(columns = ['Unnamed: 0'])\n",
    "\n",
    "#Before merging the columns I will drop some unuseful columns from the data frame in order to save time \n",
    "#and reduce the costs of the merging command. Plus it will give a clearer overview about the data.\n",
    "df_ords_prods_merged = df_ords_prods_merged.drop(columns = ['Unnamed: 0','Unnamed: 0.1','_merge'])"
   ]
  },
  {
   "cell_type": "code",
   "execution_count": null,
   "id": "4750cf8e",
   "metadata": {},
   "outputs": [],
   "source": [
    "#Merge df_prods and df_ords_prods_merged as inner join \n",
    "df_merged = df_prods.merge(df_ords_prods_merged, on = 'product_id', indicator = True)"
   ]
  },
  {
   "cell_type": "markdown",
   "id": "fdd4b6ea",
   "metadata": {},
   "source": [
    "## full match check "
   ]
  },
  {
   "cell_type": "code",
   "execution_count": null,
   "id": "2b725b0c",
   "metadata": {},
   "outputs": [],
   "source": [
    "#checking for a full match \n",
    "df_merged['_merge'].value_counts()"
   ]
  },
  {
   "cell_type": "code",
   "execution_count": null,
   "id": "a820b828",
   "metadata": {},
   "outputs": [],
   "source": [
    "#merging this time with outer join\n",
    "#( how = 'outer': Merging like this will combine all the observations and show  the real merge rate )\n",
    "df_merged = df_prods.merge(df_ords_prods_merged, on = 'product_id', how = 'outer',indicator = True)"
   ]
  },
  {
   "cell_type": "code",
   "execution_count": null,
   "id": "6884c6c0",
   "metadata": {},
   "outputs": [],
   "source": [
    "#checking againfor a full match\n",
    "df_merged['_merge'].value_counts()"
   ]
  },
  {
   "cell_type": "code",
   "execution_count": null,
   "id": "12db7974",
   "metadata": {},
   "outputs": [],
   "source": [
    "#checking the rows and columns after merging \n",
    "df_merged.shape"
   ]
  },
  {
   "cell_type": "code",
   "execution_count": null,
   "id": "d90ae943",
   "metadata": {},
   "outputs": [],
   "source": [
    "df_merged.head()"
   ]
  },
  {
   "cell_type": "markdown",
   "id": "8d3e60b1",
   "metadata": {},
   "source": [
    "## Exporting Data in PKL format"
   ]
  },
  {
   "cell_type": "code",
   "execution_count": null,
   "id": "d479b296",
   "metadata": {},
   "outputs": [],
   "source": [
    "path = '/Users/bente/careerfoundry /exercise 4/Ex.4_25-10-2023 Instacart Basket Analysis'\n",
    "df_merged.to_pickle(os.path.join(path, '02 Data','Prepared Data', 'orders_products_merged_2.pkl'))"
   ]
  }
 ],
 "metadata": {
  "kernelspec": {
   "display_name": "Python 3 (ipykernel)",
   "language": "python",
   "name": "python3"
  },
  "language_info": {
   "codemirror_mode": {
    "name": "ipython",
    "version": 3
   },
   "file_extension": ".py",
   "mimetype": "text/x-python",
   "name": "python",
   "nbconvert_exporter": "python",
   "pygments_lexer": "ipython3",
   "version": "3.10.9"
  }
 },
 "nbformat": 4,
 "nbformat_minor": 5
}
