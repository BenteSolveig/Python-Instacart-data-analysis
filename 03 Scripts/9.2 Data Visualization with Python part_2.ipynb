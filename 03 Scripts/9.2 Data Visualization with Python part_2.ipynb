{
 "cells": [
  {
   "cell_type": "markdown",
   "id": "4b52aeec",
   "metadata": {},
   "source": [
    "## Table of Content\n",
    "1.import libaries \n",
    "2.importing the data set \n",
    "3.Sampling Data\n",
    "4.creating a line chart\n",
    "5.creating a bar chart\n",
    "6.creating a histogram of the “prices” column\n",
    "7.histogram and descriptive findings about sales\n",
    "8.distribution of orders among customers in terms of loyalty\n",
    "9.checking for a difference in expenditure\n",
    "10.exploratory analysis of customer demographics\n",
    "11.scatterplot for exploring connection between age and spending power \n",
    "12.Saving the visualizations\n",
    "13.EXTRA \n",
    "\n"
   ]
  },
  {
   "cell_type": "markdown",
   "id": "249c66e0",
   "metadata": {},
   "source": [
    "## import libaries "
   ]
  },
  {
   "cell_type": "code",
   "execution_count": 1,
   "id": "fe5eba54",
   "metadata": {},
   "outputs": [],
   "source": [
    "import pandas as pd\n",
    "import numpy as np\n",
    "import os\n",
    "import matplotlib.pyplot as plt\n",
    "import seaborn as sns\n",
    "import scipy "
   ]
  },
  {
   "cell_type": "markdown",
   "id": "7b878e7c",
   "metadata": {},
   "source": [
    "## importing the data set "
   ]
  },
  {
   "cell_type": "code",
   "execution_count": 2,
   "id": "ef44caf5",
   "metadata": {},
   "outputs": [],
   "source": [
    "df=pd.read_pickle(r'/Users/bente/careerfoundry /exercise 4/Ex.4_25-10-2023 Instacart Basket Analysis/02 Data/Prepared Data/ords_prods_custs_merge.pkl')"
   ]
  },
  {
   "cell_type": "code",
   "execution_count": 3,
   "id": "20e0ef19",
   "metadata": {},
   "outputs": [
    {
     "data": {
      "text/html": [
       "<div>\n",
       "<style scoped>\n",
       "    .dataframe tbody tr th:only-of-type {\n",
       "        vertical-align: middle;\n",
       "    }\n",
       "\n",
       "    .dataframe tbody tr th {\n",
       "        vertical-align: top;\n",
       "    }\n",
       "\n",
       "    .dataframe thead th {\n",
       "        text-align: right;\n",
       "    }\n",
       "</style>\n",
       "<table border=\"1\" class=\"dataframe\">\n",
       "  <thead>\n",
       "    <tr style=\"text-align: right;\">\n",
       "      <th></th>\n",
       "      <th>product_id</th>\n",
       "      <th>product_name</th>\n",
       "      <th>aisle_id</th>\n",
       "      <th>department_id</th>\n",
       "      <th>prices</th>\n",
       "      <th>order_id</th>\n",
       "      <th>User Id</th>\n",
       "      <th>order_number</th>\n",
       "      <th>orders_day_of_week</th>\n",
       "      <th>order_hour_of_day</th>\n",
       "      <th>...</th>\n",
       "      <th>Surname</th>\n",
       "      <th>Gender</th>\n",
       "      <th>State</th>\n",
       "      <th>Age</th>\n",
       "      <th>Joining Date</th>\n",
       "      <th>Dependants</th>\n",
       "      <th>Family Status</th>\n",
       "      <th>Income</th>\n",
       "      <th>First Name</th>\n",
       "      <th>_merge</th>\n",
       "    </tr>\n",
       "  </thead>\n",
       "  <tbody>\n",
       "    <tr>\n",
       "      <th>0</th>\n",
       "      <td>1</td>\n",
       "      <td>Chocolate Sandwich Cookies</td>\n",
       "      <td>61</td>\n",
       "      <td>19</td>\n",
       "      <td>5.8</td>\n",
       "      <td>3139998</td>\n",
       "      <td>138</td>\n",
       "      <td>28</td>\n",
       "      <td>6</td>\n",
       "      <td>11</td>\n",
       "      <td>...</td>\n",
       "      <td>Cox</td>\n",
       "      <td>Male</td>\n",
       "      <td>Minnesota</td>\n",
       "      <td>81</td>\n",
       "      <td>8/1/2019</td>\n",
       "      <td>1</td>\n",
       "      <td>married</td>\n",
       "      <td>49620</td>\n",
       "      <td>Charles</td>\n",
       "      <td>both</td>\n",
       "    </tr>\n",
       "    <tr>\n",
       "      <th>1</th>\n",
       "      <td>1</td>\n",
       "      <td>Chocolate Sandwich Cookies</td>\n",
       "      <td>61</td>\n",
       "      <td>19</td>\n",
       "      <td>5.8</td>\n",
       "      <td>1977647</td>\n",
       "      <td>138</td>\n",
       "      <td>30</td>\n",
       "      <td>6</td>\n",
       "      <td>17</td>\n",
       "      <td>...</td>\n",
       "      <td>Cox</td>\n",
       "      <td>Male</td>\n",
       "      <td>Minnesota</td>\n",
       "      <td>81</td>\n",
       "      <td>8/1/2019</td>\n",
       "      <td>1</td>\n",
       "      <td>married</td>\n",
       "      <td>49620</td>\n",
       "      <td>Charles</td>\n",
       "      <td>both</td>\n",
       "    </tr>\n",
       "    <tr>\n",
       "      <th>2</th>\n",
       "      <td>907</td>\n",
       "      <td>Premium Sliced Bacon</td>\n",
       "      <td>106</td>\n",
       "      <td>12</td>\n",
       "      <td>20.0</td>\n",
       "      <td>3160996</td>\n",
       "      <td>138</td>\n",
       "      <td>1</td>\n",
       "      <td>5</td>\n",
       "      <td>13</td>\n",
       "      <td>...</td>\n",
       "      <td>Cox</td>\n",
       "      <td>Male</td>\n",
       "      <td>Minnesota</td>\n",
       "      <td>81</td>\n",
       "      <td>8/1/2019</td>\n",
       "      <td>1</td>\n",
       "      <td>married</td>\n",
       "      <td>49620</td>\n",
       "      <td>Charles</td>\n",
       "      <td>both</td>\n",
       "    </tr>\n",
       "    <tr>\n",
       "      <th>3</th>\n",
       "      <td>907</td>\n",
       "      <td>Premium Sliced Bacon</td>\n",
       "      <td>106</td>\n",
       "      <td>12</td>\n",
       "      <td>20.0</td>\n",
       "      <td>2254091</td>\n",
       "      <td>138</td>\n",
       "      <td>10</td>\n",
       "      <td>5</td>\n",
       "      <td>14</td>\n",
       "      <td>...</td>\n",
       "      <td>Cox</td>\n",
       "      <td>Male</td>\n",
       "      <td>Minnesota</td>\n",
       "      <td>81</td>\n",
       "      <td>8/1/2019</td>\n",
       "      <td>1</td>\n",
       "      <td>married</td>\n",
       "      <td>49620</td>\n",
       "      <td>Charles</td>\n",
       "      <td>both</td>\n",
       "    </tr>\n",
       "    <tr>\n",
       "      <th>4</th>\n",
       "      <td>1000</td>\n",
       "      <td>Apricots</td>\n",
       "      <td>18</td>\n",
       "      <td>10</td>\n",
       "      <td>12.9</td>\n",
       "      <td>505689</td>\n",
       "      <td>138</td>\n",
       "      <td>9</td>\n",
       "      <td>6</td>\n",
       "      <td>12</td>\n",
       "      <td>...</td>\n",
       "      <td>Cox</td>\n",
       "      <td>Male</td>\n",
       "      <td>Minnesota</td>\n",
       "      <td>81</td>\n",
       "      <td>8/1/2019</td>\n",
       "      <td>1</td>\n",
       "      <td>married</td>\n",
       "      <td>49620</td>\n",
       "      <td>Charles</td>\n",
       "      <td>both</td>\n",
       "    </tr>\n",
       "  </tbody>\n",
       "</table>\n",
       "<p>5 rows × 35 columns</p>\n",
       "</div>"
      ],
      "text/plain": [
       "   product_id                product_name  aisle_id  department_id  prices  \\\n",
       "0           1  Chocolate Sandwich Cookies        61             19     5.8   \n",
       "1           1  Chocolate Sandwich Cookies        61             19     5.8   \n",
       "2         907        Premium Sliced Bacon       106             12    20.0   \n",
       "3         907        Premium Sliced Bacon       106             12    20.0   \n",
       "4        1000                    Apricots        18             10    12.9   \n",
       "\n",
       "   order_id User Id  order_number  orders_day_of_week  order_hour_of_day  ...  \\\n",
       "0   3139998     138            28                   6                 11  ...   \n",
       "1   1977647     138            30                   6                 17  ...   \n",
       "2   3160996     138             1                   5                 13  ...   \n",
       "3   2254091     138            10                   5                 14  ...   \n",
       "4    505689     138             9                   6                 12  ...   \n",
       "\n",
       "   Surname Gender      State  Age Joining Date Dependants Family Status  \\\n",
       "0      Cox   Male  Minnesota   81     8/1/2019          1       married   \n",
       "1      Cox   Male  Minnesota   81     8/1/2019          1       married   \n",
       "2      Cox   Male  Minnesota   81     8/1/2019          1       married   \n",
       "3      Cox   Male  Minnesota   81     8/1/2019          1       married   \n",
       "4      Cox   Male  Minnesota   81     8/1/2019          1       married   \n",
       "\n",
       "  Income  First Name  _merge  \n",
       "0  49620      Charles   both  \n",
       "1  49620      Charles   both  \n",
       "2  49620      Charles   both  \n",
       "3  49620      Charles   both  \n",
       "4  49620      Charles   both  \n",
       "\n",
       "[5 rows x 35 columns]"
      ]
     },
     "execution_count": 3,
     "metadata": {},
     "output_type": "execute_result"
    }
   ],
   "source": [
    "df.head()"
   ]
  },
  {
   "cell_type": "markdown",
   "id": "a956c50c",
   "metadata": {},
   "source": [
    "## Sampling Data"
   ]
  },
  {
   "cell_type": "code",
   "execution_count": 4,
   "id": "486b18fe",
   "metadata": {},
   "outputs": [],
   "source": [
    "# set the “seed.” This “seed” represents a random but reproducible pattern\n",
    "#create a new list called dev to test the np.random.rand(). This will be what stores the boolean values(True/False)\n",
    "np.random.seed(4)\n",
    "dev = np.random.rand(len(df)) <= 0.7"
   ]
  },
  {
   "cell_type": "code",
   "execution_count": 5,
   "id": "fc01a718",
   "metadata": {},
   "outputs": [],
   "source": [
    "#use the list to split the dataframe into two samples. Store 70% of the df in big, 30% in small \n",
    "big_df = df[dev]\n",
    "small_df = df[~dev]"
   ]
  },
  {
   "cell_type": "code",
   "execution_count": 6,
   "id": "fce8e608",
   "metadata": {},
   "outputs": [],
   "source": [
    "#reducing the samples to only those columns necessary for the chart, namely “prices” and “orders_day_of_week.”\n",
    "df_2 = small_df[['orders_day_of_week','prices']]"
   ]
  },
  {
   "cell_type": "markdown",
   "id": "ef8be702",
   "metadata": {},
   "source": [
    "## creating a line chart"
   ]
  },
  {
   "cell_type": "code",
   "execution_count": 7,
   "id": "1e9f999a",
   "metadata": {},
   "outputs": [
    {
     "name": "stderr",
     "output_type": "stream",
     "text": [
      "/Users/bente/anaconda3/lib/python3.10/site-packages/seaborn/_oldcore.py:1498: FutureWarning: is_categorical_dtype is deprecated and will be removed in a future version. Use isinstance(dtype, CategoricalDtype) instead\n",
      "  if pd.api.types.is_categorical_dtype(vector):\n",
      "/Users/bente/anaconda3/lib/python3.10/site-packages/seaborn/_oldcore.py:1498: FutureWarning: is_categorical_dtype is deprecated and will be removed in a future version. Use isinstance(dtype, CategoricalDtype) instead\n",
      "  if pd.api.types.is_categorical_dtype(vector):\n",
      "/Users/bente/anaconda3/lib/python3.10/site-packages/seaborn/_oldcore.py:1119: FutureWarning: use_inf_as_na option is deprecated and will be removed in a future version. Convert inf values to NaN before operating instead.\n",
      "  with pd.option_context('mode.use_inf_as_na', True):\n",
      "/Users/bente/anaconda3/lib/python3.10/site-packages/seaborn/_oldcore.py:1119: FutureWarning: use_inf_as_na option is deprecated and will be removed in a future version. Convert inf values to NaN before operating instead.\n",
      "  with pd.option_context('mode.use_inf_as_na', True):\n"
     ]
    },
    {
     "data": {
      "image/png": "[encoded data removed]",
      "text/plain": [
       "<Figure size 640x480 with 1 Axes>"
      ]
     },
     "metadata": {},
     "output_type": "display_data"
    }
   ],
   "source": [
    "line = sns.lineplot(data = df_2, x = 'orders_day_of_week',y = 'prices')"
   ]
  },
  {
   "cell_type": "code",
   "execution_count": 8,
   "id": "1af4ccdc",
   "metadata": {},
   "outputs": [],
   "source": [
    "#Exporting the line chart \n",
    "path = '/Users/bente/careerfoundry /exercise 4/Ex.4_25-10-2023 Instacart Basket Analysis/04 Analysis '\n",
    "line.figure.savefig(os.path.join(path,'Visualizations', 'line.png'))\n"
   ]
  },
  {
   "cell_type": "markdown",
   "id": "ce8d31f4",
   "metadata": {},
   "source": [
    "## creating a bar chart "
   ]
  },
  {
   "cell_type": "code",
   "execution_count": 9,
   "id": "da9ad780",
   "metadata": {},
   "outputs": [
    {
     "data": {
      "text/plain": [
       "<Axes: xlabel='orders_day_of_week'>"
      ]
     },
     "execution_count": 9,
     "metadata": {},
     "output_type": "execute_result"
    },
    {
     "data": {
      "image/png": "[encoded data removed]",
      "text/plain": [
       "<Figure size 640x480 with 1 Axes>"
      ]
     },
     "metadata": {},
     "output_type": "display_data"
    }
   ],
   "source": [
    "df_2['orders_day_of_week'].value_counts().plot.bar()"
   ]
  },
  {
   "cell_type": "code",
   "execution_count": 10,
   "id": "d1cad913",
   "metadata": {},
   "outputs": [
    {
     "data": {
      "image/png": "[encoded data removed]",
      "text/plain": [
       "<Figure size 640x480 with 1 Axes>"
      ]
     },
     "metadata": {},
     "output_type": "display_data"
    }
   ],
   "source": [
    "#saving the visualization in a bar objetc \n",
    "bar = df_2['orders_day_of_week'].value_counts().plot.bar(color =['purple', 'red', 'pink', 'orange', 'yellow', 'green', 'blue'])"
   ]
  },
  {
   "cell_type": "code",
   "execution_count": 11,
   "id": "d467a408",
   "metadata": {},
   "outputs": [],
   "source": [
    "#exporting it \n",
    "path = '/Users/bente/careerfoundry /exercise 4/Ex.4_25-10-2023 Instacart Basket Analysis/04 Analysis '\n",
    "bar.figure.savefig(os.path.join(path,'Visualizations', 'bar_orders_cust.dow.png'))\n"
   ]
  },
  {
   "cell_type": "code",
   "execution_count": 14,
   "id": "fcc8c788",
   "metadata": {},
   "outputs": [
    {
     "data": {
      "text/plain": [
       "count    9.721098e+06\n",
       "mean     1.196327e+01\n",
       "std      4.923865e+02\n",
       "min      1.000000e+00\n",
       "25%      4.200000e+00\n",
       "50%      7.400000e+00\n",
       "75%      1.130000e+01\n",
       "max      9.999900e+04\n",
       "Name: prices, dtype: float64"
      ]
     },
     "execution_count": 14,
     "metadata": {},
     "output_type": "execute_result"
    }
   ],
   "source": [
    "#checking the stats \n",
    "df_2['prices'].describe()"
   ]
  },
  {
   "cell_type": "markdown",
   "id": "5df10ddc",
   "metadata": {},
   "source": [
    "## creating a scatterplot "
   ]
  },
  {
   "cell_type": "code",
   "execution_count": 15,
   "id": "1a6203c1",
   "metadata": {},
   "outputs": [
    {
     "name": "stderr",
     "output_type": "stream",
     "text": [
      "/Users/bente/anaconda3/lib/python3.10/site-packages/seaborn/_oldcore.py:1498: FutureWarning: is_categorical_dtype is deprecated and will be removed in a future version. Use isinstance(dtype, CategoricalDtype) instead\n",
      "  if pd.api.types.is_categorical_dtype(vector):\n",
      "/Users/bente/anaconda3/lib/python3.10/site-packages/seaborn/_oldcore.py:1498: FutureWarning: is_categorical_dtype is deprecated and will be removed in a future version. Use isinstance(dtype, CategoricalDtype) instead\n",
      "  if pd.api.types.is_categorical_dtype(vector):\n"
     ]
    },
    {
     "data": {
      "image/png": "[encoded data removed]",
      "text/plain": [
       "<Figure size 640x480 with 1 Axes>"
      ]
     },
     "metadata": {},
     "output_type": "display_data"
    }
   ],
   "source": [
    "line_2=sns.scatterplot(x = 'prices', y = 'prices',data = df_2)\n"
   ]
  },
  {
   "cell_type": "markdown",
   "id": "dc1ac08e",
   "metadata": {},
   "source": [
    "-> 0 rows with outlier observations"
   ]
  },
  {
   "cell_type": "markdown",
   "id": "62028b1a",
   "metadata": {},
   "source": [
    "## histogram and descriptive findings about sales "
   ]
  },
  {
   "cell_type": "markdown",
   "id": "b413ad35",
   "metadata": {},
   "source": [
    "provide the Instacart senior stakeholders with descriptive findings about sales. Create a histogram of the “order_hour_of_day” column.\n",
    "In a markdown cell beneath your histogram, describe what the histogram demonstrates."
   ]
  },
  {
   "cell_type": "code",
   "execution_count": 16,
   "id": "5b7a0b32",
   "metadata": {},
   "outputs": [
    {
     "data": {
      "text/plain": [
       "count    9.721098e+06\n",
       "mean     1.196327e+01\n",
       "std      4.923865e+02\n",
       "min      1.000000e+00\n",
       "25%      4.200000e+00\n",
       "50%      7.400000e+00\n",
       "75%      1.130000e+01\n",
       "max      9.999900e+04\n",
       "Name: prices, dtype: float64"
      ]
     },
     "execution_count": 16,
     "metadata": {},
     "output_type": "execute_result"
    }
   ],
   "source": [
    "#checking the stats of the subset \n",
    "df_2['prices'].describe()"
   ]
  },
  {
   "cell_type": "code",
   "execution_count": 17,
   "id": "5640e4d0",
   "metadata": {},
   "outputs": [
    {
     "data": {
      "text/plain": [
       "count    3.240486e+07\n",
       "mean     1.198023e+01\n",
       "std      4.956554e+02\n",
       "min      1.000000e+00\n",
       "25%      4.200000e+00\n",
       "50%      7.400000e+00\n",
       "75%      1.130000e+01\n",
       "max      9.999900e+04\n",
       "Name: prices, dtype: float64"
      ]
     },
     "execution_count": 17,
     "metadata": {},
     "output_type": "execute_result"
    }
   ],
   "source": [
    "#checking the stats of the whole set \n",
    "df['prices'].describe()"
   ]
  },
  {
   "cell_type": "code",
   "execution_count": 18,
   "id": "308442ce",
   "metadata": {},
   "outputs": [
    {
     "data": {
      "text/plain": [
       "11.963267626763978"
      ]
     },
     "execution_count": 18,
     "metadata": {},
     "output_type": "execute_result"
    }
   ],
   "source": [
    "#subset \n",
    "df_2['prices'].mean()"
   ]
  },
  {
   "cell_type": "code",
   "execution_count": 19,
   "id": "a1713737",
   "metadata": {},
   "outputs": [
    {
     "data": {
      "text/plain": [
       "11.980225638383386"
      ]
     },
     "execution_count": 19,
     "metadata": {},
     "output_type": "execute_result"
    }
   ],
   "source": [
    "#whole set \n",
    "df['prices'].mean()"
   ]
  },
  {
   "cell_type": "code",
   "execution_count": 20,
   "id": "844d6e82",
   "metadata": {},
   "outputs": [
    {
     "data": {
      "text/plain": [
       "7.4"
      ]
     },
     "execution_count": 20,
     "metadata": {},
     "output_type": "execute_result"
    }
   ],
   "source": [
    "#subset \n",
    "df_2['prices'].median()"
   ]
  },
  {
   "cell_type": "code",
   "execution_count": 21,
   "id": "d414804b",
   "metadata": {},
   "outputs": [
    {
     "data": {
      "text/plain": [
       "7.4"
      ]
     },
     "execution_count": 21,
     "metadata": {},
     "output_type": "execute_result"
    }
   ],
   "source": [
    "#whole set \n",
    "df['prices'].median()"
   ]
  },
  {
   "cell_type": "code",
   "execution_count": 22,
   "id": "27d0ba3d",
   "metadata": {},
   "outputs": [
    {
     "data": {
      "text/plain": [
       "99999.0"
      ]
     },
     "execution_count": 22,
     "metadata": {},
     "output_type": "execute_result"
    }
   ],
   "source": [
    "#subset \n",
    "df_2['prices'].max()"
   ]
  },
  {
   "cell_type": "code",
   "execution_count": 23,
   "id": "a043f5da",
   "metadata": {},
   "outputs": [
    {
     "data": {
      "text/plain": [
       "99999.0"
      ]
     },
     "execution_count": 23,
     "metadata": {},
     "output_type": "execute_result"
    }
   ],
   "source": [
    "#whole set \n",
    "df['prices'].max()"
   ]
  },
  {
   "cell_type": "code",
   "execution_count": 24,
   "id": "bef1829f",
   "metadata": {},
   "outputs": [
    {
     "data": {
      "image/png": "[encoded data removed]",
      "text/plain": [
       "<Figure size 640x480 with 1 Axes>"
      ]
     },
     "metadata": {},
     "output_type": "display_data"
    }
   ],
   "source": [
    "hist = df['order_hour_of_day'].plot.hist(bins = 24)"
   ]
  },
  {
   "cell_type": "markdown",
   "id": "60237575",
   "metadata": {},
   "source": [
    "the early morning hours (1 a.m. to 7 a.m.) have the fewest orders. \n",
    "The number of orders begins to rise in the mid morning, peaking around 11 a.m., and continue to stay high until \n",
    "about 5 p.m., during the evening they shrink again. "
   ]
  },
  {
   "cell_type": "markdown",
   "id": "ac91d5f7",
   "metadata": {},
   "source": [
    "## distribution of orders among customers in terms of loyalty"
   ]
  },
  {
   "cell_type": "code",
   "execution_count": 25,
   "id": "e4922669",
   "metadata": {},
   "outputs": [
    {
     "ename": "SyntaxError",
     "evalue": "invalid character '“' (U+201C) (1006954607.py, line 2)",
     "output_type": "error",
     "traceback": [
      "\u001b[0;36m  Cell \u001b[0;32mIn[25], line 2\u001b[0;36m\u001b[0m\n\u001b[0;31m    Create a bar chart from the “loyalty_flag” column.\u001b[0m\n\u001b[0m                                ^\u001b[0m\n\u001b[0;31mSyntaxError\u001b[0m\u001b[0;31m:\u001b[0m invalid character '“' (U+201C)\n"
     ]
    }
   ],
   "source": [
    "The marketing team is curious about the distribution of orders among customers in terms of loyalty. \n",
    "Create a bar chart from the “loyalty_flag” column. "
   ]
  },
  {
   "cell_type": "code",
   "execution_count": null,
   "id": "26f44c4b",
   "metadata": {},
   "outputs": [],
   "source": [
    "column_names = df.columns.tolist()\n",
    "print(column_names)"
   ]
  },
  {
   "cell_type": "code",
   "execution_count": null,
   "id": "9d65b5e8",
   "metadata": {},
   "outputs": [],
   "source": [
    "bar_3 = df['loyalty_flag'].value_counts().plot.bar(color =['red', 'purple', 'pink'])"
   ]
  },
  {
   "cell_type": "markdown",
   "id": "19fdc463",
   "metadata": {},
   "source": [
    "## checking for a difference in expenditure "
   ]
  },
  {
   "cell_type": "markdown",
   "id": "e6e010a5",
   "metadata": {},
   "source": [
    "Check whether there’s a difference in expenditure (the “prices” column) depending on the hour of the day. \n",
    "(Hint: To check this, you need to use an accurate sample for your line chart!) "
   ]
  },
  {
   "cell_type": "code",
   "execution_count": null,
   "id": "c890ab52",
   "metadata": {},
   "outputs": [],
   "source": [
    "#creating df_3 with just the necessary columns \n",
    "df_3 = small_df[['order_hour_of_day','prices']]"
   ]
  },
  {
   "cell_type": "code",
   "execution_count": null,
   "id": "10f1c9a4",
   "metadata": {},
   "outputs": [],
   "source": [
    "# Calculate the average prices for each hour of the day\n",
    "avg_prices_per_hour = df_3.groupby('order_hour_of_day')['prices'].mean()"
   ]
  },
  {
   "cell_type": "code",
   "execution_count": null,
   "id": "a615911d",
   "metadata": {},
   "outputs": [],
   "source": [
    "avg_prices_per_hour "
   ]
  },
  {
   "cell_type": "code",
   "execution_count": null,
   "id": "b9e182ff",
   "metadata": {},
   "outputs": [],
   "source": [
    "# Create a box plot to visualize the distribution of prices for each hour of the day\n",
    "plt.figure(figsize=(10, 6))\n",
    "boxplot = df_3.boxplot(column='prices', by='order_hour_of_day')"
   ]
  },
  {
   "cell_type": "code",
   "execution_count": null,
   "id": "108367ce",
   "metadata": {},
   "outputs": [],
   "source": [
    "line_3 = sns.lineplot(data = df_3, x = 'order_hour_of_day',y = 'prices')\n"
   ]
  },
  {
   "cell_type": "markdown",
   "id": "a8fb9752",
   "metadata": {},
   "source": [
    "The average prices per hour are quite similiar, and the distribution range too, but when looking at the line chart at first glance, the differences between the hours seem significant because the line drops deeply at some points and rises higher at others. However, when looking at the prices, it becomes evident that the differences are not too substantial.\n",
    "\n",
    "The hightest priced items sell in the night-time/early morning and from 5 am its shrinks until 9 o clocl wher eits at the lowest point. "
   ]
  },
  {
   "cell_type": "markdown",
   "id": "3beec8b1",
   "metadata": {},
   "source": [
    "## exploratory analysis of customer demographics"
   ]
  },
  {
   "cell_type": "code",
   "execution_count": null,
   "id": "d8960b81",
   "metadata": {},
   "outputs": [],
   "source": [
    "Now that you have information about customers, you need to conduct some exploratory analysis of customer \n",
    "demographics to inform the targeted marketing campaigns. First, determine whether there’s a connection between \n",
    "age and family situation by creating a line chart exploring the connections between age and number of dependents:\n",
    "In a markdown cell beneath your line chart, describe what the line chart shows."
   ]
  },
  {
   "cell_type": "code",
   "execution_count": null,
   "id": "d08040a8",
   "metadata": {},
   "outputs": [],
   "source": [
    "#creating df_4 with just the necessary columns \n",
    "df_4 = small_df[['Age','Dependants']]"
   ]
  },
  {
   "cell_type": "code",
   "execution_count": null,
   "id": "f9614566",
   "metadata": {},
   "outputs": [],
   "source": [
    "#creating a line chart \n",
    "line_4 = sns.lineplot(data = df_4, x = 'Age',y = 'Dependants')"
   ]
  },
  {
   "cell_type": "markdown",
   "id": "02b1bebd",
   "metadata": {},
   "source": [
    "There does not seem to be a connection between a customers age and the dependents. The number of dependants varies \n",
    "between 1.44 to 1.58 with no clear pattern. i can just say that between 30 and 50 the variation is smaller then in the other age groups. "
   ]
  },
  {
   "cell_type": "markdown",
   "id": "2c965508",
   "metadata": {},
   "source": [
    "## scatterplot for exploring connection between age and spending power "
   ]
  },
  {
   "cell_type": "markdown",
   "id": "f54e1699",
   "metadata": {},
   "source": [
    "You’ll also need to explore whether there’s a connection between age and spending power (income). To visualize this relationship, create a scatterplot using the sns.scatterplot() function.\n",
    "In a markdown cell beneath your scatterplot, describe what the scatterplot shows."
   ]
  },
  {
   "cell_type": "code",
   "execution_count": null,
   "id": "3ed604d0",
   "metadata": {},
   "outputs": [],
   "source": [
    "#creating df_5 with just the necessary columns \n",
    "df_5 = small_df[['Age','Income']]"
   ]
  },
  {
   "cell_type": "code",
   "execution_count": null,
   "id": "984ee61c",
   "metadata": {},
   "outputs": [],
   "source": [
    "#creating a scatterplot \n",
    "scatterplot = sns.scatterplot(x = 'Age', y = 'Income',data = df_5)"
   ]
  },
  {
   "cell_type": "markdown",
   "id": "197b4747",
   "metadata": {},
   "source": [
    "its obvios that starting from age 40, the income rise is significant. While up to 40 the higehst income are at the\n",
    "400000 mark, it rises up to 600000 after age of 40. also the middle feeld income (200000-400000) has much more \n",
    "data points after the agemark 40. "
   ]
  },
  {
   "cell_type": "markdown",
   "id": "288241b1",
   "metadata": {},
   "source": [
    "## Saving the visualizations "
   ]
  },
  {
   "cell_type": "code",
   "execution_count": null,
   "id": "22522240",
   "metadata": {},
   "outputs": [],
   "source": [
    "path = '/Users/bente/careerfoundry /exercise 4/Ex.4_25-10-2023 Instacart Basket Analysis/04 Analysis /Visualizations'"
   ]
  },
  {
   "cell_type": "code",
   "execution_count": null,
   "id": "f47961b6",
   "metadata": {},
   "outputs": [],
   "source": [
    "#saving the visualizations \n",
    "path = '/Users/bente/careerfoundry /exercise 4/Ex.4_25-10-2023 Instacart Basket Analysis/04 Analysis '\n",
    "bar.figure.savefig(os.path.join(path,'Visualizations', 'bar.png'))\n",
    "hist.figure.savefig(os.path.join(path,'Visualizations', 'hist.png'))\n",
    "boxplot.figure.savefig(os.path.join(path,'Visualizations', 'boxplot.png'))\n",
    "line_2.figure.savefig(os.path.join(path,'Visualizations', 'line_2.png'))\n",
    "line_3.figure.savefig(os.path.join(path,'Visualizations', 'line_3.png'))\n",
    "line_4.figure.savefig(os.path.join(path,'Visualizations', 'line_4.png'))\n",
    "scatterplot.figure.savefig(os.path.join(path,'Visualizations', 'scatterplot.png'))"
   ]
  },
  {
   "cell_type": "code",
   "execution_count": null,
   "id": "8c40b835",
   "metadata": {},
   "outputs": [],
   "source": [
    "#saving the visualization\n",
    "bar_3.figure.savefig(os.path.join(path,'Visualizations', 'bar_3.png'))"
   ]
  },
  {
   "cell_type": "markdown",
   "id": "5e3d8568",
   "metadata": {},
   "source": [
    "## EXTRA "
   ]
  },
  {
   "cell_type": "code",
   "execution_count": null,
   "id": "c7af3a2b",
   "metadata": {},
   "outputs": [],
   "source": [
    "#checking the data for PII \n",
    "column_names = df.columns.tolist()\n",
    "print(column_names)"
   ]
  },
  {
   "cell_type": "code",
   "execution_count": null,
   "id": "ae19b29e",
   "metadata": {},
   "outputs": [],
   "source": [
    "#Deleting \"First Name\", \"Surname\" and because they are sensible data and \"_merge\" because its not useful anymore\n",
    "df.drop(columns = ['First Name'], inplace=True)\n",
    "df.drop(columns = ['First Name '], inplace=True)\n",
    "df.drop(columns = ['Surname'], inplace=True)\n",
    "df.drop(columns = ['_merge'], inplace=True)"
   ]
  },
  {
   "cell_type": "code",
   "execution_count": null,
   "id": "85bf80c9",
   "metadata": {},
   "outputs": [],
   "source": [
    "#checking if the columns are really dropped now \n",
    "column_names = df.columns.tolist()\n",
    "print(column_names)"
   ]
  }
 ],
 "metadata": {
  "kernelspec": {
   "display_name": "Python 3 (ipykernel)",
   "language": "python",
   "name": "python3"
  },
  "language_info": {
   "codemirror_mode": {
    "name": "ipython",
    "version": 3
   },
   "file_extension": ".py",
   "mimetype": "text/x-python",
   "name": "python",
   "nbconvert_exporter": "python",
   "pygments_lexer": "ipython3",
   "version": "3.10.9"
  }
 },
 "nbformat": 4,
 "nbformat_minor": 5
}
